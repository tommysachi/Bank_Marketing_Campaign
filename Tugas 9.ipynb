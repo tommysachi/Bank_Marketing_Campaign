{
 "cells": [
  {
   "cell_type": "code",
   "execution_count": 1,
   "id": "53563d02-723c-4034-85bc-bebbe6f94d3a",
   "metadata": {},
   "outputs": [],
   "source": [
    "import numpy as np\n",
    "import pandas as pd\n",
    "import matplotlib.pyplot as plt\n",
    "import seaborn as sns"
   ]
  },
  {
   "cell_type": "code",
   "execution_count": 2,
   "id": "bc908b9a-01da-4a6a-908c-b56896a508dd",
   "metadata": {},
   "outputs": [],
   "source": [
    "import warnings\n",
    "warnings.filterwarnings('ignore')"
   ]
  },
  {
   "cell_type": "code",
   "execution_count": 3,
   "id": "fe946c09-dbfe-4f35-ae9a-2d45de9cd504",
   "metadata": {},
   "outputs": [],
   "source": [
    "df = pd.read_csv('bank.csv',sep=';')"
   ]
  },
  {
   "cell_type": "code",
   "execution_count": 4,
   "id": "62ea4c70-06a9-416f-bc6d-d7227d3a8fb9",
   "metadata": {},
   "outputs": [],
   "source": [
    "# This Datasets describe the Bank Marketing Campaign, the objective of this dataset's machine learning is to optimize the marketing camapign of banking instituion in the future"
   ]
  },
  {
   "cell_type": "code",
   "execution_count": 5,
   "id": "6fd9eee8-1009-4193-b23e-33b350e68c7c",
   "metadata": {},
   "outputs": [
    {
     "data": {
      "text/html": [
       "<div>\n",
       "<style scoped>\n",
       "    .dataframe tbody tr th:only-of-type {\n",
       "        vertical-align: middle;\n",
       "    }\n",
       "\n",
       "    .dataframe tbody tr th {\n",
       "        vertical-align: top;\n",
       "    }\n",
       "\n",
       "    .dataframe thead th {\n",
       "        text-align: right;\n",
       "    }\n",
       "</style>\n",
       "<table border=\"1\" class=\"dataframe\">\n",
       "  <thead>\n",
       "    <tr style=\"text-align: right;\">\n",
       "      <th></th>\n",
       "      <th>age</th>\n",
       "      <th>job</th>\n",
       "      <th>marital</th>\n",
       "      <th>education</th>\n",
       "      <th>default</th>\n",
       "      <th>balance</th>\n",
       "      <th>housing</th>\n",
       "      <th>loan</th>\n",
       "      <th>contact</th>\n",
       "      <th>day</th>\n",
       "      <th>month</th>\n",
       "      <th>duration</th>\n",
       "      <th>campaign</th>\n",
       "      <th>pdays</th>\n",
       "      <th>previous</th>\n",
       "      <th>poutcome</th>\n",
       "      <th>y</th>\n",
       "    </tr>\n",
       "  </thead>\n",
       "  <tbody>\n",
       "    <tr>\n",
       "      <th>0</th>\n",
       "      <td>30</td>\n",
       "      <td>unemployed</td>\n",
       "      <td>married</td>\n",
       "      <td>primary</td>\n",
       "      <td>no</td>\n",
       "      <td>1787</td>\n",
       "      <td>no</td>\n",
       "      <td>no</td>\n",
       "      <td>cellular</td>\n",
       "      <td>19</td>\n",
       "      <td>oct</td>\n",
       "      <td>79</td>\n",
       "      <td>1</td>\n",
       "      <td>-1</td>\n",
       "      <td>0</td>\n",
       "      <td>unknown</td>\n",
       "      <td>no</td>\n",
       "    </tr>\n",
       "    <tr>\n",
       "      <th>1</th>\n",
       "      <td>33</td>\n",
       "      <td>services</td>\n",
       "      <td>married</td>\n",
       "      <td>secondary</td>\n",
       "      <td>no</td>\n",
       "      <td>4789</td>\n",
       "      <td>yes</td>\n",
       "      <td>yes</td>\n",
       "      <td>cellular</td>\n",
       "      <td>11</td>\n",
       "      <td>may</td>\n",
       "      <td>220</td>\n",
       "      <td>1</td>\n",
       "      <td>339</td>\n",
       "      <td>4</td>\n",
       "      <td>failure</td>\n",
       "      <td>no</td>\n",
       "    </tr>\n",
       "    <tr>\n",
       "      <th>2</th>\n",
       "      <td>35</td>\n",
       "      <td>management</td>\n",
       "      <td>single</td>\n",
       "      <td>tertiary</td>\n",
       "      <td>no</td>\n",
       "      <td>1350</td>\n",
       "      <td>yes</td>\n",
       "      <td>no</td>\n",
       "      <td>cellular</td>\n",
       "      <td>16</td>\n",
       "      <td>apr</td>\n",
       "      <td>185</td>\n",
       "      <td>1</td>\n",
       "      <td>330</td>\n",
       "      <td>1</td>\n",
       "      <td>failure</td>\n",
       "      <td>no</td>\n",
       "    </tr>\n",
       "    <tr>\n",
       "      <th>3</th>\n",
       "      <td>30</td>\n",
       "      <td>management</td>\n",
       "      <td>married</td>\n",
       "      <td>tertiary</td>\n",
       "      <td>no</td>\n",
       "      <td>1476</td>\n",
       "      <td>yes</td>\n",
       "      <td>yes</td>\n",
       "      <td>unknown</td>\n",
       "      <td>3</td>\n",
       "      <td>jun</td>\n",
       "      <td>199</td>\n",
       "      <td>4</td>\n",
       "      <td>-1</td>\n",
       "      <td>0</td>\n",
       "      <td>unknown</td>\n",
       "      <td>no</td>\n",
       "    </tr>\n",
       "    <tr>\n",
       "      <th>4</th>\n",
       "      <td>59</td>\n",
       "      <td>blue-collar</td>\n",
       "      <td>married</td>\n",
       "      <td>secondary</td>\n",
       "      <td>no</td>\n",
       "      <td>0</td>\n",
       "      <td>yes</td>\n",
       "      <td>no</td>\n",
       "      <td>unknown</td>\n",
       "      <td>5</td>\n",
       "      <td>may</td>\n",
       "      <td>226</td>\n",
       "      <td>1</td>\n",
       "      <td>-1</td>\n",
       "      <td>0</td>\n",
       "      <td>unknown</td>\n",
       "      <td>no</td>\n",
       "    </tr>\n",
       "  </tbody>\n",
       "</table>\n",
       "</div>"
      ],
      "text/plain": [
       "   age          job  marital  education default  balance housing loan  \\\n",
       "0   30   unemployed  married    primary      no     1787      no   no   \n",
       "1   33     services  married  secondary      no     4789     yes  yes   \n",
       "2   35   management   single   tertiary      no     1350     yes   no   \n",
       "3   30   management  married   tertiary      no     1476     yes  yes   \n",
       "4   59  blue-collar  married  secondary      no        0     yes   no   \n",
       "\n",
       "    contact  day month  duration  campaign  pdays  previous poutcome   y  \n",
       "0  cellular   19   oct        79         1     -1         0  unknown  no  \n",
       "1  cellular   11   may       220         1    339         4  failure  no  \n",
       "2  cellular   16   apr       185         1    330         1  failure  no  \n",
       "3   unknown    3   jun       199         4     -1         0  unknown  no  \n",
       "4   unknown    5   may       226         1     -1         0  unknown  no  "
      ]
     },
     "execution_count": 5,
     "metadata": {},
     "output_type": "execute_result"
    }
   ],
   "source": [
    "df.head()"
   ]
  },
  {
   "cell_type": "code",
   "execution_count": 6,
   "id": "6481e8eb-af62-47f4-83f6-eb94d7de4e7a",
   "metadata": {},
   "outputs": [
    {
     "name": "stdout",
     "output_type": "stream",
     "text": [
      "<class 'pandas.core.frame.DataFrame'>\n",
      "RangeIndex: 4521 entries, 0 to 4520\n",
      "Data columns (total 17 columns):\n",
      " #   Column     Non-Null Count  Dtype \n",
      "---  ------     --------------  ----- \n",
      " 0   age        4521 non-null   int64 \n",
      " 1   job        4521 non-null   object\n",
      " 2   marital    4521 non-null   object\n",
      " 3   education  4521 non-null   object\n",
      " 4   default    4521 non-null   object\n",
      " 5   balance    4521 non-null   int64 \n",
      " 6   housing    4521 non-null   object\n",
      " 7   loan       4521 non-null   object\n",
      " 8   contact    4521 non-null   object\n",
      " 9   day        4521 non-null   int64 \n",
      " 10  month      4521 non-null   object\n",
      " 11  duration   4521 non-null   int64 \n",
      " 12  campaign   4521 non-null   int64 \n",
      " 13  pdays      4521 non-null   int64 \n",
      " 14  previous   4521 non-null   int64 \n",
      " 15  poutcome   4521 non-null   object\n",
      " 16  y          4521 non-null   object\n",
      "dtypes: int64(7), object(10)\n",
      "memory usage: 600.6+ KB\n"
     ]
    }
   ],
   "source": [
    "df.info()"
   ]
  },
  {
   "cell_type": "code",
   "execution_count": 7,
   "id": "dfd26275-8a50-4c05-ba44-e92e5d075171",
   "metadata": {},
   "outputs": [
    {
     "data": {
      "text/plain": [
       "age          0\n",
       "job          0\n",
       "marital      0\n",
       "education    0\n",
       "default      0\n",
       "balance      0\n",
       "housing      0\n",
       "loan         0\n",
       "contact      0\n",
       "day          0\n",
       "month        0\n",
       "duration     0\n",
       "campaign     0\n",
       "pdays        0\n",
       "previous     0\n",
       "poutcome     0\n",
       "y            0\n",
       "dtype: int64"
      ]
     },
     "execution_count": 7,
     "metadata": {},
     "output_type": "execute_result"
    }
   ],
   "source": [
    "df.isna().sum()"
   ]
  },
  {
   "cell_type": "code",
   "execution_count": 8,
   "id": "ee446793-70ca-4423-ac57-87ba07de947f",
   "metadata": {},
   "outputs": [
    {
     "data": {
      "image/png": "[encoded data removed]",
      "text/plain": [
       "<Figure size 936x576 with 1 Axes>"
      ]
     },
     "metadata": {
      "needs_background": "light"
     },
     "output_type": "display_data"
    }
   ],
   "source": [
    "plt.figure(figsize=(13,8))\n",
    "sns.heatmap(df.isna(),cmap='cividis',yticklabels=False,cbar=False)\n",
    "plt.show()"
   ]
  },
  {
   "cell_type": "code",
   "execution_count": 9,
   "id": "e3538663-17a6-4c3c-b282-6e7e8509a8a7",
   "metadata": {},
   "outputs": [],
   "source": [
    "dataDesc = []\n",
    "\n",
    "for i in df.columns:\n",
    "    dataDesc.append([\n",
    "        i,\n",
    "        df[i].dtypes,\n",
    "        df[i].isna().sum(),\n",
    "        round((((df[i].isna().sum()) / len(df)) *100),2),\n",
    "        df[i].nunique(),\n",
    "        df[i].drop_duplicates().sample(2).values\n",
    "    ])"
   ]
  },
  {
   "cell_type": "code",
   "execution_count": 10,
   "id": "e66a381f-42d4-462d-9fca-0b91b0e249dd",
   "metadata": {},
   "outputs": [
    {
     "data": {
      "text/html": [
       "<div>\n",
       "<style scoped>\n",
       "    .dataframe tbody tr th:only-of-type {\n",
       "        vertical-align: middle;\n",
       "    }\n",
       "\n",
       "    .dataframe tbody tr th {\n",
       "        vertical-align: top;\n",
       "    }\n",
       "\n",
       "    .dataframe thead th {\n",
       "        text-align: right;\n",
       "    }\n",
       "</style>\n",
       "<table border=\"1\" class=\"dataframe\">\n",
       "  <thead>\n",
       "    <tr style=\"text-align: right;\">\n",
       "      <th></th>\n",
       "      <th>Data Features</th>\n",
       "      <th>Data Type</th>\n",
       "      <th>Null</th>\n",
       "      <th>Null Percentage</th>\n",
       "      <th>Unique</th>\n",
       "      <th>Unique Sample</th>\n",
       "    </tr>\n",
       "  </thead>\n",
       "  <tbody>\n",
       "    <tr>\n",
       "      <th>0</th>\n",
       "      <td>age</td>\n",
       "      <td>int64</td>\n",
       "      <td>0</td>\n",
       "      <td>0.0</td>\n",
       "      <td>67</td>\n",
       "      <td>[28, 34]</td>\n",
       "    </tr>\n",
       "    <tr>\n",
       "      <th>1</th>\n",
       "      <td>job</td>\n",
       "      <td>object</td>\n",
       "      <td>0</td>\n",
       "      <td>0.0</td>\n",
       "      <td>12</td>\n",
       "      <td>[admin., management]</td>\n",
       "    </tr>\n",
       "    <tr>\n",
       "      <th>2</th>\n",
       "      <td>marital</td>\n",
       "      <td>object</td>\n",
       "      <td>0</td>\n",
       "      <td>0.0</td>\n",
       "      <td>3</td>\n",
       "      <td>[married, divorced]</td>\n",
       "    </tr>\n",
       "    <tr>\n",
       "      <th>3</th>\n",
       "      <td>education</td>\n",
       "      <td>object</td>\n",
       "      <td>0</td>\n",
       "      <td>0.0</td>\n",
       "      <td>4</td>\n",
       "      <td>[unknown, secondary]</td>\n",
       "    </tr>\n",
       "    <tr>\n",
       "      <th>4</th>\n",
       "      <td>default</td>\n",
       "      <td>object</td>\n",
       "      <td>0</td>\n",
       "      <td>0.0</td>\n",
       "      <td>2</td>\n",
       "      <td>[yes, no]</td>\n",
       "    </tr>\n",
       "    <tr>\n",
       "      <th>5</th>\n",
       "      <td>balance</td>\n",
       "      <td>int64</td>\n",
       "      <td>0</td>\n",
       "      <td>0.0</td>\n",
       "      <td>2353</td>\n",
       "      <td>[666, 702]</td>\n",
       "    </tr>\n",
       "    <tr>\n",
       "      <th>6</th>\n",
       "      <td>housing</td>\n",
       "      <td>object</td>\n",
       "      <td>0</td>\n",
       "      <td>0.0</td>\n",
       "      <td>2</td>\n",
       "      <td>[yes, no]</td>\n",
       "    </tr>\n",
       "    <tr>\n",
       "      <th>7</th>\n",
       "      <td>loan</td>\n",
       "      <td>object</td>\n",
       "      <td>0</td>\n",
       "      <td>0.0</td>\n",
       "      <td>2</td>\n",
       "      <td>[no, yes]</td>\n",
       "    </tr>\n",
       "    <tr>\n",
       "      <th>8</th>\n",
       "      <td>contact</td>\n",
       "      <td>object</td>\n",
       "      <td>0</td>\n",
       "      <td>0.0</td>\n",
       "      <td>3</td>\n",
       "      <td>[unknown, telephone]</td>\n",
       "    </tr>\n",
       "    <tr>\n",
       "      <th>9</th>\n",
       "      <td>day</td>\n",
       "      <td>int64</td>\n",
       "      <td>0</td>\n",
       "      <td>0.0</td>\n",
       "      <td>31</td>\n",
       "      <td>[7, 18]</td>\n",
       "    </tr>\n",
       "    <tr>\n",
       "      <th>10</th>\n",
       "      <td>month</td>\n",
       "      <td>object</td>\n",
       "      <td>0</td>\n",
       "      <td>0.0</td>\n",
       "      <td>12</td>\n",
       "      <td>[jun, aug]</td>\n",
       "    </tr>\n",
       "    <tr>\n",
       "      <th>11</th>\n",
       "      <td>duration</td>\n",
       "      <td>int64</td>\n",
       "      <td>0</td>\n",
       "      <td>0.0</td>\n",
       "      <td>875</td>\n",
       "      <td>[758, 654]</td>\n",
       "    </tr>\n",
       "    <tr>\n",
       "      <th>12</th>\n",
       "      <td>campaign</td>\n",
       "      <td>int64</td>\n",
       "      <td>0</td>\n",
       "      <td>0.0</td>\n",
       "      <td>32</td>\n",
       "      <td>[29, 25]</td>\n",
       "    </tr>\n",
       "    <tr>\n",
       "      <th>13</th>\n",
       "      <td>pdays</td>\n",
       "      <td>int64</td>\n",
       "      <td>0</td>\n",
       "      <td>0.0</td>\n",
       "      <td>292</td>\n",
       "      <td>[145, 335]</td>\n",
       "    </tr>\n",
       "    <tr>\n",
       "      <th>14</th>\n",
       "      <td>previous</td>\n",
       "      <td>int64</td>\n",
       "      <td>0</td>\n",
       "      <td>0.0</td>\n",
       "      <td>24</td>\n",
       "      <td>[18, 13]</td>\n",
       "    </tr>\n",
       "    <tr>\n",
       "      <th>15</th>\n",
       "      <td>poutcome</td>\n",
       "      <td>object</td>\n",
       "      <td>0</td>\n",
       "      <td>0.0</td>\n",
       "      <td>4</td>\n",
       "      <td>[success, failure]</td>\n",
       "    </tr>\n",
       "    <tr>\n",
       "      <th>16</th>\n",
       "      <td>y</td>\n",
       "      <td>object</td>\n",
       "      <td>0</td>\n",
       "      <td>0.0</td>\n",
       "      <td>2</td>\n",
       "      <td>[yes, no]</td>\n",
       "    </tr>\n",
       "  </tbody>\n",
       "</table>\n",
       "</div>"
      ],
      "text/plain": [
       "   Data Features Data Type  Null  Null Percentage  Unique  \\\n",
       "0            age     int64     0              0.0      67   \n",
       "1            job    object     0              0.0      12   \n",
       "2        marital    object     0              0.0       3   \n",
       "3      education    object     0              0.0       4   \n",
       "4        default    object     0              0.0       2   \n",
       "5        balance     int64     0              0.0    2353   \n",
       "6        housing    object     0              0.0       2   \n",
       "7           loan    object     0              0.0       2   \n",
       "8        contact    object     0              0.0       3   \n",
       "9            day     int64     0              0.0      31   \n",
       "10         month    object     0              0.0      12   \n",
       "11      duration     int64     0              0.0     875   \n",
       "12      campaign     int64     0              0.0      32   \n",
       "13         pdays     int64     0              0.0     292   \n",
       "14      previous     int64     0              0.0      24   \n",
       "15      poutcome    object     0              0.0       4   \n",
       "16             y    object     0              0.0       2   \n",
       "\n",
       "           Unique Sample  \n",
       "0               [28, 34]  \n",
       "1   [admin., management]  \n",
       "2    [married, divorced]  \n",
       "3   [unknown, secondary]  \n",
       "4              [yes, no]  \n",
       "5             [666, 702]  \n",
       "6              [yes, no]  \n",
       "7              [no, yes]  \n",
       "8   [unknown, telephone]  \n",
       "9                [7, 18]  \n",
       "10            [jun, aug]  \n",
       "11            [758, 654]  \n",
       "12              [29, 25]  \n",
       "13            [145, 335]  \n",
       "14              [18, 13]  \n",
       "15    [success, failure]  \n",
       "16             [yes, no]  "
      ]
     },
     "execution_count": 10,
     "metadata": {},
     "output_type": "execute_result"
    }
   ],
   "source": [
    "pd.DataFrame(dataDesc,columns=[\n",
    "    \"Data Features\",\n",
    "    \"Data Type\",\n",
    "    \"Null\",\n",
    "    \"Null Percentage\",\n",
    "    \"Unique\",\n",
    "    \"Unique Sample\"\n",
    "])"
   ]
  },
  {
   "cell_type": "code",
   "execution_count": 11,
   "id": "afde6b6b-7dd3-44b2-b486-8dc06d506dc1",
   "metadata": {},
   "outputs": [
    {
     "data": {
      "text/plain": [
       "management       969\n",
       "blue-collar      946\n",
       "technician       768\n",
       "admin.           478\n",
       "services         417\n",
       "retired          230\n",
       "self-employed    183\n",
       "entrepreneur     168\n",
       "unemployed       128\n",
       "housemaid        112\n",
       "student           84\n",
       "unknown           38\n",
       "Name: job, dtype: int64"
      ]
     },
     "execution_count": 11,
     "metadata": {},
     "output_type": "execute_result"
    }
   ],
   "source": [
    "df['job'].value_counts()"
   ]
  },
  {
   "cell_type": "code",
   "execution_count": 12,
   "id": "f08538b4-5c1a-4a3d-a1ad-459c5ce71f5c",
   "metadata": {},
   "outputs": [
    {
     "data": {
      "text/plain": [
       "married     2797\n",
       "single      1196\n",
       "divorced     528\n",
       "Name: marital, dtype: int64"
      ]
     },
     "execution_count": 12,
     "metadata": {},
     "output_type": "execute_result"
    }
   ],
   "source": [
    "df['marital'].value_counts()"
   ]
  },
  {
   "cell_type": "code",
   "execution_count": 13,
   "id": "9a7689d9-856a-44c0-899c-7a91957f3600",
   "metadata": {},
   "outputs": [
    {
     "data": {
      "text/plain": [
       "secondary    2306\n",
       "tertiary     1350\n",
       "primary       678\n",
       "unknown       187\n",
       "Name: education, dtype: int64"
      ]
     },
     "execution_count": 13,
     "metadata": {},
     "output_type": "execute_result"
    }
   ],
   "source": [
    "df['education'].value_counts()"
   ]
  },
  {
   "cell_type": "code",
   "execution_count": 14,
   "id": "6f675c61-84b6-4b0f-a78e-310cdfc139d8",
   "metadata": {},
   "outputs": [
    {
     "data": {
      "text/plain": [
       "cellular     2896\n",
       "unknown      1324\n",
       "telephone     301\n",
       "Name: contact, dtype: int64"
      ]
     },
     "execution_count": 14,
     "metadata": {},
     "output_type": "execute_result"
    }
   ],
   "source": [
    "df['contact'].value_counts()"
   ]
  },
  {
   "cell_type": "code",
   "execution_count": 15,
   "id": "80569084-22d7-4958-936a-72d35a55eea6",
   "metadata": {},
   "outputs": [
    {
     "data": {
      "text/plain": [
       "unknown    3705\n",
       "failure     490\n",
       "other       197\n",
       "success     129\n",
       "Name: poutcome, dtype: int64"
      ]
     },
     "execution_count": 15,
     "metadata": {},
     "output_type": "execute_result"
    }
   ],
   "source": [
    "df['poutcome'].value_counts()"
   ]
  },
  {
   "cell_type": "code",
   "execution_count": 16,
   "id": "ceeda448-393b-4e8b-bb05-8663f325c727",
   "metadata": {},
   "outputs": [
    {
     "data": {
      "text/html": [
       "<div>\n",
       "<style scoped>\n",
       "    .dataframe tbody tr th:only-of-type {\n",
       "        vertical-align: middle;\n",
       "    }\n",
       "\n",
       "    .dataframe tbody tr th {\n",
       "        vertical-align: top;\n",
       "    }\n",
       "\n",
       "    .dataframe thead th {\n",
       "        text-align: right;\n",
       "    }\n",
       "</style>\n",
       "<table border=\"1\" class=\"dataframe\">\n",
       "  <thead>\n",
       "    <tr style=\"text-align: right;\">\n",
       "      <th></th>\n",
       "      <th>age</th>\n",
       "      <th>job</th>\n",
       "      <th>marital</th>\n",
       "      <th>education</th>\n",
       "      <th>default</th>\n",
       "      <th>balance</th>\n",
       "      <th>housing</th>\n",
       "      <th>loan</th>\n",
       "      <th>contact</th>\n",
       "      <th>day</th>\n",
       "      <th>month</th>\n",
       "      <th>duration</th>\n",
       "      <th>campaign</th>\n",
       "      <th>pdays</th>\n",
       "      <th>previous</th>\n",
       "      <th>poutcome</th>\n",
       "      <th>y</th>\n",
       "    </tr>\n",
       "  </thead>\n",
       "  <tbody>\n",
       "    <tr>\n",
       "      <th>0</th>\n",
       "      <td>30</td>\n",
       "      <td>unemployed</td>\n",
       "      <td>married</td>\n",
       "      <td>primary</td>\n",
       "      <td>no</td>\n",
       "      <td>1787</td>\n",
       "      <td>no</td>\n",
       "      <td>no</td>\n",
       "      <td>cellular</td>\n",
       "      <td>19</td>\n",
       "      <td>oct</td>\n",
       "      <td>79</td>\n",
       "      <td>1</td>\n",
       "      <td>-1</td>\n",
       "      <td>0</td>\n",
       "      <td>unknown</td>\n",
       "      <td>no</td>\n",
       "    </tr>\n",
       "    <tr>\n",
       "      <th>1</th>\n",
       "      <td>33</td>\n",
       "      <td>services</td>\n",
       "      <td>married</td>\n",
       "      <td>secondary</td>\n",
       "      <td>no</td>\n",
       "      <td>4789</td>\n",
       "      <td>yes</td>\n",
       "      <td>yes</td>\n",
       "      <td>cellular</td>\n",
       "      <td>11</td>\n",
       "      <td>may</td>\n",
       "      <td>220</td>\n",
       "      <td>1</td>\n",
       "      <td>339</td>\n",
       "      <td>4</td>\n",
       "      <td>failure</td>\n",
       "      <td>no</td>\n",
       "    </tr>\n",
       "    <tr>\n",
       "      <th>2</th>\n",
       "      <td>35</td>\n",
       "      <td>management</td>\n",
       "      <td>single</td>\n",
       "      <td>tertiary</td>\n",
       "      <td>no</td>\n",
       "      <td>1350</td>\n",
       "      <td>yes</td>\n",
       "      <td>no</td>\n",
       "      <td>cellular</td>\n",
       "      <td>16</td>\n",
       "      <td>apr</td>\n",
       "      <td>185</td>\n",
       "      <td>1</td>\n",
       "      <td>330</td>\n",
       "      <td>1</td>\n",
       "      <td>failure</td>\n",
       "      <td>no</td>\n",
       "    </tr>\n",
       "    <tr>\n",
       "      <th>3</th>\n",
       "      <td>30</td>\n",
       "      <td>management</td>\n",
       "      <td>married</td>\n",
       "      <td>tertiary</td>\n",
       "      <td>no</td>\n",
       "      <td>1476</td>\n",
       "      <td>yes</td>\n",
       "      <td>yes</td>\n",
       "      <td>unknown</td>\n",
       "      <td>3</td>\n",
       "      <td>jun</td>\n",
       "      <td>199</td>\n",
       "      <td>4</td>\n",
       "      <td>-1</td>\n",
       "      <td>0</td>\n",
       "      <td>unknown</td>\n",
       "      <td>no</td>\n",
       "    </tr>\n",
       "    <tr>\n",
       "      <th>4</th>\n",
       "      <td>59</td>\n",
       "      <td>blue-collar</td>\n",
       "      <td>married</td>\n",
       "      <td>secondary</td>\n",
       "      <td>no</td>\n",
       "      <td>0</td>\n",
       "      <td>yes</td>\n",
       "      <td>no</td>\n",
       "      <td>unknown</td>\n",
       "      <td>5</td>\n",
       "      <td>may</td>\n",
       "      <td>226</td>\n",
       "      <td>1</td>\n",
       "      <td>-1</td>\n",
       "      <td>0</td>\n",
       "      <td>unknown</td>\n",
       "      <td>no</td>\n",
       "    </tr>\n",
       "  </tbody>\n",
       "</table>\n",
       "</div>"
      ],
      "text/plain": [
       "   age          job  marital  education default  balance housing loan  \\\n",
       "0   30   unemployed  married    primary      no     1787      no   no   \n",
       "1   33     services  married  secondary      no     4789     yes  yes   \n",
       "2   35   management   single   tertiary      no     1350     yes   no   \n",
       "3   30   management  married   tertiary      no     1476     yes  yes   \n",
       "4   59  blue-collar  married  secondary      no        0     yes   no   \n",
       "\n",
       "    contact  day month  duration  campaign  pdays  previous poutcome   y  \n",
       "0  cellular   19   oct        79         1     -1         0  unknown  no  \n",
       "1  cellular   11   may       220         1    339         4  failure  no  \n",
       "2  cellular   16   apr       185         1    330         1  failure  no  \n",
       "3   unknown    3   jun       199         4     -1         0  unknown  no  \n",
       "4   unknown    5   may       226         1     -1         0  unknown  no  "
      ]
     },
     "execution_count": 16,
     "metadata": {},
     "output_type": "execute_result"
    }
   ],
   "source": [
    "df.head()"
   ]
  },
  {
   "cell_type": "code",
   "execution_count": 17,
   "id": "af6ebcdf-5ee8-4e71-ab53-b9c9768276dd",
   "metadata": {},
   "outputs": [],
   "source": [
    "# Initial Hypothesis"
   ]
  },
  {
   "cell_type": "code",
   "execution_count": 18,
   "id": "7a53129d-9b58-4bdf-a1f1-b8b001b15816",
   "metadata": {},
   "outputs": [],
   "source": [
    "# Age, job, marital, education, default, balance, housing, loan, contact, duration, pdays, previous will affect the successful of the campaign"
   ]
  },
  {
   "cell_type": "code",
   "execution_count": 19,
   "id": "835896cb-e633-4fd1-bda0-375e777fb685",
   "metadata": {},
   "outputs": [],
   "source": [
    "df1 = df[['age','job','marital','education','default','balance','housing','loan','contact','duration','pdays','previous','y']]"
   ]
  },
  {
   "cell_type": "code",
   "execution_count": 20,
   "id": "7ee000a0-f1f5-45e7-8381-b87f48aee08d",
   "metadata": {},
   "outputs": [
    {
     "data": {
      "text/html": [
       "<div>\n",
       "<style scoped>\n",
       "    .dataframe tbody tr th:only-of-type {\n",
       "        vertical-align: middle;\n",
       "    }\n",
       "\n",
       "    .dataframe tbody tr th {\n",
       "        vertical-align: top;\n",
       "    }\n",
       "\n",
       "    .dataframe thead th {\n",
       "        text-align: right;\n",
       "    }\n",
       "</style>\n",
       "<table border=\"1\" class=\"dataframe\">\n",
       "  <thead>\n",
       "    <tr style=\"text-align: right;\">\n",
       "      <th></th>\n",
       "      <th>age</th>\n",
       "      <th>job</th>\n",
       "      <th>marital</th>\n",
       "      <th>education</th>\n",
       "      <th>default</th>\n",
       "      <th>balance</th>\n",
       "      <th>housing</th>\n",
       "      <th>loan</th>\n",
       "      <th>contact</th>\n",
       "      <th>duration</th>\n",
       "      <th>pdays</th>\n",
       "      <th>previous</th>\n",
       "      <th>y</th>\n",
       "    </tr>\n",
       "  </thead>\n",
       "  <tbody>\n",
       "    <tr>\n",
       "      <th>0</th>\n",
       "      <td>30</td>\n",
       "      <td>unemployed</td>\n",
       "      <td>married</td>\n",
       "      <td>primary</td>\n",
       "      <td>no</td>\n",
       "      <td>1787</td>\n",
       "      <td>no</td>\n",
       "      <td>no</td>\n",
       "      <td>cellular</td>\n",
       "      <td>79</td>\n",
       "      <td>-1</td>\n",
       "      <td>0</td>\n",
       "      <td>no</td>\n",
       "    </tr>\n",
       "    <tr>\n",
       "      <th>1</th>\n",
       "      <td>33</td>\n",
       "      <td>services</td>\n",
       "      <td>married</td>\n",
       "      <td>secondary</td>\n",
       "      <td>no</td>\n",
       "      <td>4789</td>\n",
       "      <td>yes</td>\n",
       "      <td>yes</td>\n",
       "      <td>cellular</td>\n",
       "      <td>220</td>\n",
       "      <td>339</td>\n",
       "      <td>4</td>\n",
       "      <td>no</td>\n",
       "    </tr>\n",
       "    <tr>\n",
       "      <th>2</th>\n",
       "      <td>35</td>\n",
       "      <td>management</td>\n",
       "      <td>single</td>\n",
       "      <td>tertiary</td>\n",
       "      <td>no</td>\n",
       "      <td>1350</td>\n",
       "      <td>yes</td>\n",
       "      <td>no</td>\n",
       "      <td>cellular</td>\n",
       "      <td>185</td>\n",
       "      <td>330</td>\n",
       "      <td>1</td>\n",
       "      <td>no</td>\n",
       "    </tr>\n",
       "    <tr>\n",
       "      <th>3</th>\n",
       "      <td>30</td>\n",
       "      <td>management</td>\n",
       "      <td>married</td>\n",
       "      <td>tertiary</td>\n",
       "      <td>no</td>\n",
       "      <td>1476</td>\n",
       "      <td>yes</td>\n",
       "      <td>yes</td>\n",
       "      <td>unknown</td>\n",
       "      <td>199</td>\n",
       "      <td>-1</td>\n",
       "      <td>0</td>\n",
       "      <td>no</td>\n",
       "    </tr>\n",
       "    <tr>\n",
       "      <th>4</th>\n",
       "      <td>59</td>\n",
       "      <td>blue-collar</td>\n",
       "      <td>married</td>\n",
       "      <td>secondary</td>\n",
       "      <td>no</td>\n",
       "      <td>0</td>\n",
       "      <td>yes</td>\n",
       "      <td>no</td>\n",
       "      <td>unknown</td>\n",
       "      <td>226</td>\n",
       "      <td>-1</td>\n",
       "      <td>0</td>\n",
       "      <td>no</td>\n",
       "    </tr>\n",
       "  </tbody>\n",
       "</table>\n",
       "</div>"
      ],
      "text/plain": [
       "   age          job  marital  education default  balance housing loan  \\\n",
       "0   30   unemployed  married    primary      no     1787      no   no   \n",
       "1   33     services  married  secondary      no     4789     yes  yes   \n",
       "2   35   management   single   tertiary      no     1350     yes   no   \n",
       "3   30   management  married   tertiary      no     1476     yes  yes   \n",
       "4   59  blue-collar  married  secondary      no        0     yes   no   \n",
       "\n",
       "    contact  duration  pdays  previous   y  \n",
       "0  cellular        79     -1         0  no  \n",
       "1  cellular       220    339         4  no  \n",
       "2  cellular       185    330         1  no  \n",
       "3   unknown       199     -1         0  no  \n",
       "4   unknown       226     -1         0  no  "
      ]
     },
     "execution_count": 20,
     "metadata": {},
     "output_type": "execute_result"
    }
   ],
   "source": [
    "df1.head()"
   ]
  },
  {
   "cell_type": "code",
   "execution_count": 21,
   "id": "85c77185-c83a-468f-80f9-2d34913aca48",
   "metadata": {},
   "outputs": [],
   "source": [
    "# Data Preparation"
   ]
  },
  {
   "cell_type": "code",
   "execution_count": 22,
   "id": "0f6c3e1f-97eb-4fa7-b4ce-21da70bc1829",
   "metadata": {},
   "outputs": [
    {
     "data": {
      "text/html": [
       "<div>\n",
       "<style scoped>\n",
       "    .dataframe tbody tr th:only-of-type {\n",
       "        vertical-align: middle;\n",
       "    }\n",
       "\n",
       "    .dataframe tbody tr th {\n",
       "        vertical-align: top;\n",
       "    }\n",
       "\n",
       "    .dataframe thead th {\n",
       "        text-align: right;\n",
       "    }\n",
       "</style>\n",
       "<table border=\"1\" class=\"dataframe\">\n",
       "  <thead>\n",
       "    <tr style=\"text-align: right;\">\n",
       "      <th></th>\n",
       "      <th>age</th>\n",
       "      <th>balance</th>\n",
       "      <th>duration</th>\n",
       "      <th>pdays</th>\n",
       "      <th>previous</th>\n",
       "    </tr>\n",
       "  </thead>\n",
       "  <tbody>\n",
       "    <tr>\n",
       "      <th>count</th>\n",
       "      <td>4521.000000</td>\n",
       "      <td>4521.000000</td>\n",
       "      <td>4521.000000</td>\n",
       "      <td>4521.000000</td>\n",
       "      <td>4521.000000</td>\n",
       "    </tr>\n",
       "    <tr>\n",
       "      <th>mean</th>\n",
       "      <td>41.170095</td>\n",
       "      <td>1422.657819</td>\n",
       "      <td>263.961292</td>\n",
       "      <td>39.766645</td>\n",
       "      <td>0.542579</td>\n",
       "    </tr>\n",
       "    <tr>\n",
       "      <th>std</th>\n",
       "      <td>10.576211</td>\n",
       "      <td>3009.638142</td>\n",
       "      <td>259.856633</td>\n",
       "      <td>100.121124</td>\n",
       "      <td>1.693562</td>\n",
       "    </tr>\n",
       "    <tr>\n",
       "      <th>min</th>\n",
       "      <td>19.000000</td>\n",
       "      <td>-3313.000000</td>\n",
       "      <td>4.000000</td>\n",
       "      <td>-1.000000</td>\n",
       "      <td>0.000000</td>\n",
       "    </tr>\n",
       "    <tr>\n",
       "      <th>25%</th>\n",
       "      <td>33.000000</td>\n",
       "      <td>69.000000</td>\n",
       "      <td>104.000000</td>\n",
       "      <td>-1.000000</td>\n",
       "      <td>0.000000</td>\n",
       "    </tr>\n",
       "    <tr>\n",
       "      <th>50%</th>\n",
       "      <td>39.000000</td>\n",
       "      <td>444.000000</td>\n",
       "      <td>185.000000</td>\n",
       "      <td>-1.000000</td>\n",
       "      <td>0.000000</td>\n",
       "    </tr>\n",
       "    <tr>\n",
       "      <th>75%</th>\n",
       "      <td>49.000000</td>\n",
       "      <td>1480.000000</td>\n",
       "      <td>329.000000</td>\n",
       "      <td>-1.000000</td>\n",
       "      <td>0.000000</td>\n",
       "    </tr>\n",
       "    <tr>\n",
       "      <th>max</th>\n",
       "      <td>87.000000</td>\n",
       "      <td>71188.000000</td>\n",
       "      <td>3025.000000</td>\n",
       "      <td>871.000000</td>\n",
       "      <td>25.000000</td>\n",
       "    </tr>\n",
       "  </tbody>\n",
       "</table>\n",
       "</div>"
      ],
      "text/plain": [
       "               age       balance     duration        pdays     previous\n",
       "count  4521.000000   4521.000000  4521.000000  4521.000000  4521.000000\n",
       "mean     41.170095   1422.657819   263.961292    39.766645     0.542579\n",
       "std      10.576211   3009.638142   259.856633   100.121124     1.693562\n",
       "min      19.000000  -3313.000000     4.000000    -1.000000     0.000000\n",
       "25%      33.000000     69.000000   104.000000    -1.000000     0.000000\n",
       "50%      39.000000    444.000000   185.000000    -1.000000     0.000000\n",
       "75%      49.000000   1480.000000   329.000000    -1.000000     0.000000\n",
       "max      87.000000  71188.000000  3025.000000   871.000000    25.000000"
      ]
     },
     "execution_count": 22,
     "metadata": {},
     "output_type": "execute_result"
    }
   ],
   "source": [
    "df1.describe()"
   ]
  },
  {
   "cell_type": "code",
   "execution_count": 23,
   "id": "53e2a8ef-3786-44c7-b31b-60f9d8c655cc",
   "metadata": {},
   "outputs": [
    {
     "data": {
      "text/html": [
       "<div>\n",
       "<style scoped>\n",
       "    .dataframe tbody tr th:only-of-type {\n",
       "        vertical-align: middle;\n",
       "    }\n",
       "\n",
       "    .dataframe tbody tr th {\n",
       "        vertical-align: top;\n",
       "    }\n",
       "\n",
       "    .dataframe thead th {\n",
       "        text-align: right;\n",
       "    }\n",
       "</style>\n",
       "<table border=\"1\" class=\"dataframe\">\n",
       "  <thead>\n",
       "    <tr style=\"text-align: right;\">\n",
       "      <th></th>\n",
       "      <th>age</th>\n",
       "      <th>job</th>\n",
       "      <th>marital</th>\n",
       "      <th>education</th>\n",
       "      <th>default</th>\n",
       "      <th>balance</th>\n",
       "      <th>housing</th>\n",
       "      <th>loan</th>\n",
       "      <th>contact</th>\n",
       "      <th>duration</th>\n",
       "      <th>pdays</th>\n",
       "      <th>previous</th>\n",
       "      <th>y</th>\n",
       "    </tr>\n",
       "  </thead>\n",
       "  <tbody>\n",
       "    <tr>\n",
       "      <th>9</th>\n",
       "      <td>43</td>\n",
       "      <td>services</td>\n",
       "      <td>married</td>\n",
       "      <td>primary</td>\n",
       "      <td>no</td>\n",
       "      <td>-88</td>\n",
       "      <td>yes</td>\n",
       "      <td>yes</td>\n",
       "      <td>cellular</td>\n",
       "      <td>313</td>\n",
       "      <td>147</td>\n",
       "      <td>2</td>\n",
       "      <td>no</td>\n",
       "    </tr>\n",
       "    <tr>\n",
       "      <th>18</th>\n",
       "      <td>25</td>\n",
       "      <td>blue-collar</td>\n",
       "      <td>single</td>\n",
       "      <td>primary</td>\n",
       "      <td>no</td>\n",
       "      <td>-221</td>\n",
       "      <td>yes</td>\n",
       "      <td>no</td>\n",
       "      <td>unknown</td>\n",
       "      <td>250</td>\n",
       "      <td>-1</td>\n",
       "      <td>0</td>\n",
       "      <td>no</td>\n",
       "    </tr>\n",
       "    <tr>\n",
       "      <th>48</th>\n",
       "      <td>32</td>\n",
       "      <td>entrepreneur</td>\n",
       "      <td>single</td>\n",
       "      <td>primary</td>\n",
       "      <td>yes</td>\n",
       "      <td>-849</td>\n",
       "      <td>yes</td>\n",
       "      <td>yes</td>\n",
       "      <td>cellular</td>\n",
       "      <td>204</td>\n",
       "      <td>-1</td>\n",
       "      <td>0</td>\n",
       "      <td>no</td>\n",
       "    </tr>\n",
       "    <tr>\n",
       "      <th>60</th>\n",
       "      <td>41</td>\n",
       "      <td>blue-collar</td>\n",
       "      <td>married</td>\n",
       "      <td>primary</td>\n",
       "      <td>no</td>\n",
       "      <td>-516</td>\n",
       "      <td>no</td>\n",
       "      <td>yes</td>\n",
       "      <td>telephone</td>\n",
       "      <td>554</td>\n",
       "      <td>-1</td>\n",
       "      <td>0</td>\n",
       "      <td>no</td>\n",
       "    </tr>\n",
       "    <tr>\n",
       "      <th>92</th>\n",
       "      <td>27</td>\n",
       "      <td>services</td>\n",
       "      <td>single</td>\n",
       "      <td>secondary</td>\n",
       "      <td>no</td>\n",
       "      <td>-195</td>\n",
       "      <td>yes</td>\n",
       "      <td>no</td>\n",
       "      <td>cellular</td>\n",
       "      <td>391</td>\n",
       "      <td>-1</td>\n",
       "      <td>0</td>\n",
       "      <td>yes</td>\n",
       "    </tr>\n",
       "    <tr>\n",
       "      <th>...</th>\n",
       "      <td>...</td>\n",
       "      <td>...</td>\n",
       "      <td>...</td>\n",
       "      <td>...</td>\n",
       "      <td>...</td>\n",
       "      <td>...</td>\n",
       "      <td>...</td>\n",
       "      <td>...</td>\n",
       "      <td>...</td>\n",
       "      <td>...</td>\n",
       "      <td>...</td>\n",
       "      <td>...</td>\n",
       "      <td>...</td>\n",
       "    </tr>\n",
       "    <tr>\n",
       "      <th>4474</th>\n",
       "      <td>44</td>\n",
       "      <td>blue-collar</td>\n",
       "      <td>married</td>\n",
       "      <td>primary</td>\n",
       "      <td>no</td>\n",
       "      <td>-237</td>\n",
       "      <td>yes</td>\n",
       "      <td>no</td>\n",
       "      <td>telephone</td>\n",
       "      <td>73</td>\n",
       "      <td>-1</td>\n",
       "      <td>0</td>\n",
       "      <td>no</td>\n",
       "    </tr>\n",
       "    <tr>\n",
       "      <th>4502</th>\n",
       "      <td>42</td>\n",
       "      <td>services</td>\n",
       "      <td>married</td>\n",
       "      <td>secondary</td>\n",
       "      <td>no</td>\n",
       "      <td>-91</td>\n",
       "      <td>yes</td>\n",
       "      <td>yes</td>\n",
       "      <td>cellular</td>\n",
       "      <td>43</td>\n",
       "      <td>-1</td>\n",
       "      <td>0</td>\n",
       "      <td>no</td>\n",
       "    </tr>\n",
       "    <tr>\n",
       "      <th>4506</th>\n",
       "      <td>42</td>\n",
       "      <td>unemployed</td>\n",
       "      <td>divorced</td>\n",
       "      <td>tertiary</td>\n",
       "      <td>no</td>\n",
       "      <td>-166</td>\n",
       "      <td>no</td>\n",
       "      <td>no</td>\n",
       "      <td>cellular</td>\n",
       "      <td>85</td>\n",
       "      <td>-1</td>\n",
       "      <td>0</td>\n",
       "      <td>no</td>\n",
       "    </tr>\n",
       "    <tr>\n",
       "      <th>4516</th>\n",
       "      <td>33</td>\n",
       "      <td>services</td>\n",
       "      <td>married</td>\n",
       "      <td>secondary</td>\n",
       "      <td>no</td>\n",
       "      <td>-333</td>\n",
       "      <td>yes</td>\n",
       "      <td>no</td>\n",
       "      <td>cellular</td>\n",
       "      <td>329</td>\n",
       "      <td>-1</td>\n",
       "      <td>0</td>\n",
       "      <td>no</td>\n",
       "    </tr>\n",
       "    <tr>\n",
       "      <th>4517</th>\n",
       "      <td>57</td>\n",
       "      <td>self-employed</td>\n",
       "      <td>married</td>\n",
       "      <td>tertiary</td>\n",
       "      <td>yes</td>\n",
       "      <td>-3313</td>\n",
       "      <td>yes</td>\n",
       "      <td>yes</td>\n",
       "      <td>unknown</td>\n",
       "      <td>153</td>\n",
       "      <td>-1</td>\n",
       "      <td>0</td>\n",
       "      <td>no</td>\n",
       "    </tr>\n",
       "  </tbody>\n",
       "</table>\n",
       "<p>366 rows × 13 columns</p>\n",
       "</div>"
      ],
      "text/plain": [
       "      age            job   marital  education default  balance housing loan  \\\n",
       "9      43       services   married    primary      no      -88     yes  yes   \n",
       "18     25    blue-collar    single    primary      no     -221     yes   no   \n",
       "48     32   entrepreneur    single    primary     yes     -849     yes  yes   \n",
       "60     41    blue-collar   married    primary      no     -516      no  yes   \n",
       "92     27       services    single  secondary      no     -195     yes   no   \n",
       "...   ...            ...       ...        ...     ...      ...     ...  ...   \n",
       "4474   44    blue-collar   married    primary      no     -237     yes   no   \n",
       "4502   42       services   married  secondary      no      -91     yes  yes   \n",
       "4506   42     unemployed  divorced   tertiary      no     -166      no   no   \n",
       "4516   33       services   married  secondary      no     -333     yes   no   \n",
       "4517   57  self-employed   married   tertiary     yes    -3313     yes  yes   \n",
       "\n",
       "        contact  duration  pdays  previous    y  \n",
       "9      cellular       313    147         2   no  \n",
       "18      unknown       250     -1         0   no  \n",
       "48     cellular       204     -1         0   no  \n",
       "60    telephone       554     -1         0   no  \n",
       "92     cellular       391     -1         0  yes  \n",
       "...         ...       ...    ...       ...  ...  \n",
       "4474  telephone        73     -1         0   no  \n",
       "4502   cellular        43     -1         0   no  \n",
       "4506   cellular        85     -1         0   no  \n",
       "4516   cellular       329     -1         0   no  \n",
       "4517    unknown       153     -1         0   no  \n",
       "\n",
       "[366 rows x 13 columns]"
      ]
     },
     "execution_count": 23,
     "metadata": {},
     "output_type": "execute_result"
    }
   ],
   "source": [
    "df1[df1['balance']<0]"
   ]
  },
  {
   "cell_type": "code",
   "execution_count": 24,
   "id": "d54a165c-f76b-4bd4-b7b2-e71d3d13ce70",
   "metadata": {},
   "outputs": [],
   "source": [
    "df1['marital'] = df1['marital'].map({'single' : 1, 'married' : 2, 'divorced' : 0})"
   ]
  },
  {
   "cell_type": "code",
   "execution_count": 25,
   "id": "3b8ec2b6-ef0e-4909-a9e8-efdfe8774ee7",
   "metadata": {},
   "outputs": [],
   "source": [
    "df1['education'] = df1['education'].map({'primary' : 1, 'secondary' : 2, 'tertiary' : 3, 'unknown' : 0})"
   ]
  },
  {
   "cell_type": "code",
   "execution_count": 26,
   "id": "c784a38e-33df-4f22-9f3c-f6db62cd3197",
   "metadata": {},
   "outputs": [],
   "source": [
    "df1['default'] = df1['default'].map({'yes' : 1, 'no' : 0})"
   ]
  },
  {
   "cell_type": "code",
   "execution_count": 27,
   "id": "1ee272b8-2f0c-4507-a9eb-df2911b45244",
   "metadata": {},
   "outputs": [],
   "source": [
    "df1['housing'] = df1['housing'].map({'yes' : 1, 'no' : 0})\n",
    "df1['loan'] = df1['loan'].map({'yes' : 1, 'no' : 0})\n",
    "df1['y'] = df1['y'].map({'yes' : 1, 'no' : 0})"
   ]
  },
  {
   "cell_type": "code",
   "execution_count": 28,
   "id": "f761bcaf-ba32-4953-9f07-d4cde8b50e3f",
   "metadata": {},
   "outputs": [],
   "source": [
    "df1['contact'] = df1['contact'].map({'cellular' : 1, 'unknown' : 0, 'telephone' : 2})"
   ]
  },
  {
   "cell_type": "code",
   "execution_count": 29,
   "id": "0352c4dd-dcbd-4881-ad6c-7a5b6131f307",
   "metadata": {},
   "outputs": [
    {
     "data": {
      "text/html": [
       "<div>\n",
       "<style scoped>\n",
       "    .dataframe tbody tr th:only-of-type {\n",
       "        vertical-align: middle;\n",
       "    }\n",
       "\n",
       "    .dataframe tbody tr th {\n",
       "        vertical-align: top;\n",
       "    }\n",
       "\n",
       "    .dataframe thead th {\n",
       "        text-align: right;\n",
       "    }\n",
       "</style>\n",
       "<table border=\"1\" class=\"dataframe\">\n",
       "  <thead>\n",
       "    <tr style=\"text-align: right;\">\n",
       "      <th></th>\n",
       "      <th>age</th>\n",
       "      <th>job</th>\n",
       "      <th>marital</th>\n",
       "      <th>education</th>\n",
       "      <th>default</th>\n",
       "      <th>balance</th>\n",
       "      <th>housing</th>\n",
       "      <th>loan</th>\n",
       "      <th>contact</th>\n",
       "      <th>duration</th>\n",
       "      <th>pdays</th>\n",
       "      <th>previous</th>\n",
       "      <th>y</th>\n",
       "    </tr>\n",
       "  </thead>\n",
       "  <tbody>\n",
       "  </tbody>\n",
       "</table>\n",
       "</div>"
      ],
      "text/plain": [
       "Empty DataFrame\n",
       "Columns: [age, job, marital, education, default, balance, housing, loan, contact, duration, pdays, previous, y]\n",
       "Index: []"
      ]
     },
     "execution_count": 29,
     "metadata": {},
     "output_type": "execute_result"
    }
   ],
   "source": [
    "df1[df1['pdays']==0]"
   ]
  },
  {
   "cell_type": "code",
   "execution_count": 30,
   "id": "90a92828-fee9-4c38-97d0-4c8b24628011",
   "metadata": {},
   "outputs": [
    {
     "data": {
      "text/html": [
       "<div>\n",
       "<style scoped>\n",
       "    .dataframe tbody tr th:only-of-type {\n",
       "        vertical-align: middle;\n",
       "    }\n",
       "\n",
       "    .dataframe tbody tr th {\n",
       "        vertical-align: top;\n",
       "    }\n",
       "\n",
       "    .dataframe thead th {\n",
       "        text-align: right;\n",
       "    }\n",
       "</style>\n",
       "<table border=\"1\" class=\"dataframe\">\n",
       "  <thead>\n",
       "    <tr style=\"text-align: right;\">\n",
       "      <th></th>\n",
       "      <th>age</th>\n",
       "      <th>job</th>\n",
       "      <th>marital</th>\n",
       "      <th>education</th>\n",
       "      <th>default</th>\n",
       "      <th>balance</th>\n",
       "      <th>housing</th>\n",
       "      <th>loan</th>\n",
       "      <th>contact</th>\n",
       "      <th>duration</th>\n",
       "      <th>pdays</th>\n",
       "      <th>previous</th>\n",
       "      <th>y</th>\n",
       "    </tr>\n",
       "  </thead>\n",
       "  <tbody>\n",
       "    <tr>\n",
       "      <th>0</th>\n",
       "      <td>30</td>\n",
       "      <td>unemployed</td>\n",
       "      <td>2</td>\n",
       "      <td>1</td>\n",
       "      <td>0</td>\n",
       "      <td>1787</td>\n",
       "      <td>0</td>\n",
       "      <td>0</td>\n",
       "      <td>1</td>\n",
       "      <td>79</td>\n",
       "      <td>-1</td>\n",
       "      <td>0</td>\n",
       "      <td>0</td>\n",
       "    </tr>\n",
       "    <tr>\n",
       "      <th>1</th>\n",
       "      <td>33</td>\n",
       "      <td>services</td>\n",
       "      <td>2</td>\n",
       "      <td>2</td>\n",
       "      <td>0</td>\n",
       "      <td>4789</td>\n",
       "      <td>1</td>\n",
       "      <td>1</td>\n",
       "      <td>1</td>\n",
       "      <td>220</td>\n",
       "      <td>339</td>\n",
       "      <td>4</td>\n",
       "      <td>0</td>\n",
       "    </tr>\n",
       "    <tr>\n",
       "      <th>2</th>\n",
       "      <td>35</td>\n",
       "      <td>management</td>\n",
       "      <td>1</td>\n",
       "      <td>3</td>\n",
       "      <td>0</td>\n",
       "      <td>1350</td>\n",
       "      <td>1</td>\n",
       "      <td>0</td>\n",
       "      <td>1</td>\n",
       "      <td>185</td>\n",
       "      <td>330</td>\n",
       "      <td>1</td>\n",
       "      <td>0</td>\n",
       "    </tr>\n",
       "    <tr>\n",
       "      <th>3</th>\n",
       "      <td>30</td>\n",
       "      <td>management</td>\n",
       "      <td>2</td>\n",
       "      <td>3</td>\n",
       "      <td>0</td>\n",
       "      <td>1476</td>\n",
       "      <td>1</td>\n",
       "      <td>1</td>\n",
       "      <td>0</td>\n",
       "      <td>199</td>\n",
       "      <td>-1</td>\n",
       "      <td>0</td>\n",
       "      <td>0</td>\n",
       "    </tr>\n",
       "    <tr>\n",
       "      <th>4</th>\n",
       "      <td>59</td>\n",
       "      <td>blue-collar</td>\n",
       "      <td>2</td>\n",
       "      <td>2</td>\n",
       "      <td>0</td>\n",
       "      <td>0</td>\n",
       "      <td>1</td>\n",
       "      <td>0</td>\n",
       "      <td>0</td>\n",
       "      <td>226</td>\n",
       "      <td>-1</td>\n",
       "      <td>0</td>\n",
       "      <td>0</td>\n",
       "    </tr>\n",
       "  </tbody>\n",
       "</table>\n",
       "</div>"
      ],
      "text/plain": [
       "   age          job  marital  education  default  balance  housing  loan  \\\n",
       "0   30   unemployed        2          1        0     1787        0     0   \n",
       "1   33     services        2          2        0     4789        1     1   \n",
       "2   35   management        1          3        0     1350        1     0   \n",
       "3   30   management        2          3        0     1476        1     1   \n",
       "4   59  blue-collar        2          2        0        0        1     0   \n",
       "\n",
       "   contact  duration  pdays  previous  y  \n",
       "0        1        79     -1         0  0  \n",
       "1        1       220    339         4  0  \n",
       "2        1       185    330         1  0  \n",
       "3        0       199     -1         0  0  \n",
       "4        0       226     -1         0  0  "
      ]
     },
     "execution_count": 30,
     "metadata": {},
     "output_type": "execute_result"
    }
   ],
   "source": [
    "df1.head()"
   ]
  },
  {
   "cell_type": "code",
   "execution_count": 31,
   "id": "9cf506cd-fd34-498b-a5c7-07b5b92d4cd6",
   "metadata": {},
   "outputs": [],
   "source": [
    "def pdays_recat(x) :\n",
    "    if x== -1:\n",
    "        return 0\n",
    "    else:\n",
    "        return x"
   ]
  },
  {
   "cell_type": "code",
   "execution_count": 32,
   "id": "804f2954-a947-4b84-bd23-b358d4f883cf",
   "metadata": {},
   "outputs": [],
   "source": [
    "df1['pdays'] = df1['pdays'].apply(pdays_recat)"
   ]
  },
  {
   "cell_type": "code",
   "execution_count": 33,
   "id": "0bc98ba8-b49f-40bb-a2d0-108c0c593f2f",
   "metadata": {},
   "outputs": [],
   "source": [
    "def job_recat(x) :\n",
    "    if x == 'management':\n",
    "        return 1\n",
    "    elif x == 'blue-collar':\n",
    "        return 2\n",
    "    elif x == 'technician':\n",
    "        return 3\n",
    "    elif x == 'admin.':\n",
    "        return 4\n",
    "    elif x == 'services' or x == 'retired' :\n",
    "        return 5\n",
    "    elif x == 'unemployed':\n",
    "        return 0\n",
    "    else :\n",
    "        return 6\n",
    "        "
   ]
  },
  {
   "cell_type": "code",
   "execution_count": 34,
   "id": "049e484a-94a6-4ac0-9116-c6c1cb305df4",
   "metadata": {},
   "outputs": [],
   "source": [
    "df1['job'] = df1['job'].apply(job_recat)"
   ]
  },
  {
   "cell_type": "code",
   "execution_count": 35,
   "id": "defc85c9-a287-4ddd-9265-ea718cfdfc45",
   "metadata": {},
   "outputs": [
    {
     "data": {
      "text/html": [
       "<div>\n",
       "<style scoped>\n",
       "    .dataframe tbody tr th:only-of-type {\n",
       "        vertical-align: middle;\n",
       "    }\n",
       "\n",
       "    .dataframe tbody tr th {\n",
       "        vertical-align: top;\n",
       "    }\n",
       "\n",
       "    .dataframe thead th {\n",
       "        text-align: right;\n",
       "    }\n",
       "</style>\n",
       "<table border=\"1\" class=\"dataframe\">\n",
       "  <thead>\n",
       "    <tr style=\"text-align: right;\">\n",
       "      <th></th>\n",
       "      <th>age</th>\n",
       "      <th>job</th>\n",
       "      <th>marital</th>\n",
       "      <th>education</th>\n",
       "      <th>default</th>\n",
       "      <th>balance</th>\n",
       "      <th>housing</th>\n",
       "      <th>loan</th>\n",
       "      <th>contact</th>\n",
       "      <th>duration</th>\n",
       "      <th>pdays</th>\n",
       "      <th>previous</th>\n",
       "      <th>y</th>\n",
       "    </tr>\n",
       "  </thead>\n",
       "  <tbody>\n",
       "    <tr>\n",
       "      <th>0</th>\n",
       "      <td>30</td>\n",
       "      <td>0</td>\n",
       "      <td>2</td>\n",
       "      <td>1</td>\n",
       "      <td>0</td>\n",
       "      <td>1787</td>\n",
       "      <td>0</td>\n",
       "      <td>0</td>\n",
       "      <td>1</td>\n",
       "      <td>79</td>\n",
       "      <td>0</td>\n",
       "      <td>0</td>\n",
       "      <td>0</td>\n",
       "    </tr>\n",
       "    <tr>\n",
       "      <th>1</th>\n",
       "      <td>33</td>\n",
       "      <td>5</td>\n",
       "      <td>2</td>\n",
       "      <td>2</td>\n",
       "      <td>0</td>\n",
       "      <td>4789</td>\n",
       "      <td>1</td>\n",
       "      <td>1</td>\n",
       "      <td>1</td>\n",
       "      <td>220</td>\n",
       "      <td>339</td>\n",
       "      <td>4</td>\n",
       "      <td>0</td>\n",
       "    </tr>\n",
       "    <tr>\n",
       "      <th>2</th>\n",
       "      <td>35</td>\n",
       "      <td>1</td>\n",
       "      <td>1</td>\n",
       "      <td>3</td>\n",
       "      <td>0</td>\n",
       "      <td>1350</td>\n",
       "      <td>1</td>\n",
       "      <td>0</td>\n",
       "      <td>1</td>\n",
       "      <td>185</td>\n",
       "      <td>330</td>\n",
       "      <td>1</td>\n",
       "      <td>0</td>\n",
       "    </tr>\n",
       "    <tr>\n",
       "      <th>3</th>\n",
       "      <td>30</td>\n",
       "      <td>1</td>\n",
       "      <td>2</td>\n",
       "      <td>3</td>\n",
       "      <td>0</td>\n",
       "      <td>1476</td>\n",
       "      <td>1</td>\n",
       "      <td>1</td>\n",
       "      <td>0</td>\n",
       "      <td>199</td>\n",
       "      <td>0</td>\n",
       "      <td>0</td>\n",
       "      <td>0</td>\n",
       "    </tr>\n",
       "    <tr>\n",
       "      <th>4</th>\n",
       "      <td>59</td>\n",
       "      <td>2</td>\n",
       "      <td>2</td>\n",
       "      <td>2</td>\n",
       "      <td>0</td>\n",
       "      <td>0</td>\n",
       "      <td>1</td>\n",
       "      <td>0</td>\n",
       "      <td>0</td>\n",
       "      <td>226</td>\n",
       "      <td>0</td>\n",
       "      <td>0</td>\n",
       "      <td>0</td>\n",
       "    </tr>\n",
       "  </tbody>\n",
       "</table>\n",
       "</div>"
      ],
      "text/plain": [
       "   age  job  marital  education  default  balance  housing  loan  contact  \\\n",
       "0   30    0        2          1        0     1787        0     0        1   \n",
       "1   33    5        2          2        0     4789        1     1        1   \n",
       "2   35    1        1          3        0     1350        1     0        1   \n",
       "3   30    1        2          3        0     1476        1     1        0   \n",
       "4   59    2        2          2        0        0        1     0        0   \n",
       "\n",
       "   duration  pdays  previous  y  \n",
       "0        79      0         0  0  \n",
       "1       220    339         4  0  \n",
       "2       185    330         1  0  \n",
       "3       199      0         0  0  \n",
       "4       226      0         0  0  "
      ]
     },
     "execution_count": 35,
     "metadata": {},
     "output_type": "execute_result"
    }
   ],
   "source": [
    "df1.head()"
   ]
  },
  {
   "cell_type": "code",
   "execution_count": 36,
   "id": "be5cea53-7657-477d-b219-3bbec8db8615",
   "metadata": {},
   "outputs": [],
   "source": [
    "# Check Imbalance"
   ]
  },
  {
   "cell_type": "code",
   "execution_count": 37,
   "id": "593a6dfb-c32c-4cec-bf21-358289fb383d",
   "metadata": {},
   "outputs": [
    {
     "data": {
      "text/html": [
       "<div>\n",
       "<style scoped>\n",
       "    .dataframe tbody tr th:only-of-type {\n",
       "        vertical-align: middle;\n",
       "    }\n",
       "\n",
       "    .dataframe tbody tr th {\n",
       "        vertical-align: top;\n",
       "    }\n",
       "\n",
       "    .dataframe thead th {\n",
       "        text-align: right;\n",
       "    }\n",
       "</style>\n",
       "<table border=\"1\" class=\"dataframe\">\n",
       "  <thead>\n",
       "    <tr style=\"text-align: right;\">\n",
       "      <th>col_0</th>\n",
       "      <th>Count</th>\n",
       "    </tr>\n",
       "    <tr>\n",
       "      <th>y</th>\n",
       "      <th></th>\n",
       "    </tr>\n",
       "  </thead>\n",
       "  <tbody>\n",
       "    <tr>\n",
       "      <th>0</th>\n",
       "      <td>88.48</td>\n",
       "    </tr>\n",
       "    <tr>\n",
       "      <th>1</th>\n",
       "      <td>11.52</td>\n",
       "    </tr>\n",
       "  </tbody>\n",
       "</table>\n",
       "</div>"
      ],
      "text/plain": [
       "col_0  Count\n",
       "y           \n",
       "0      88.48\n",
       "1      11.52"
      ]
     },
     "execution_count": 37,
     "metadata": {},
     "output_type": "execute_result"
    }
   ],
   "source": [
    "(pd.crosstab(index=df1['y'],columns='Count',normalize=True)*100).round(2)"
   ]
  },
  {
   "cell_type": "code",
   "execution_count": 38,
   "id": "b97c1096-a559-417c-ac30-4a72737c0238",
   "metadata": {},
   "outputs": [],
   "source": [
    "# Will use Stratify in Splitting Data and Class Weight Algorithm will be used for Improvement"
   ]
  },
  {
   "cell_type": "code",
   "execution_count": 39,
   "id": "906ba344-4e7e-4ac9-843d-018d595e1968",
   "metadata": {},
   "outputs": [],
   "source": [
    "# Check Correlation"
   ]
  },
  {
   "cell_type": "code",
   "execution_count": 40,
   "id": "6a9dfd13-3223-4768-8151-6878933dcf9f",
   "metadata": {},
   "outputs": [],
   "source": [
    "# Association Cramser' V"
   ]
  },
  {
   "cell_type": "code",
   "execution_count": 41,
   "id": "b0e602d2-91da-4a19-87fb-26910e865c9f",
   "metadata": {},
   "outputs": [],
   "source": [
    "import scipy.stats as ss"
   ]
  },
  {
   "cell_type": "code",
   "execution_count": 42,
   "id": "39044f99-499d-4d84-ae66-dfd3c9322aad",
   "metadata": {},
   "outputs": [],
   "source": [
    "def cramers (x,y):\n",
    "    confusion_matrix = pd.crosstab(x,y)\n",
    "    chi2 = ss.chi2_contingency(confusion_matrix)[0]\n",
    "    n = confusion_matrix.sum().sum()\n",
    "    phi2 = chi2/n\n",
    "    r, k = confusion_matrix.shape\n",
    "    phi2corr = max(0,phi2 - ((k - 1)*(r-1))/(n-1))\n",
    "    rcorr = r - ((r-1)**2)/(n-1)\n",
    "    kcorr = k - ((k-1)**2)/(n-1)\n",
    "    hasil = np.sqrt(phi2corr / min((kcorr-1),(rcorr-1)))\n",
    "    return hasil"
   ]
  },
  {
   "cell_type": "code",
   "execution_count": 43,
   "id": "48516721-59d3-4ee9-a1d8-e0b5f3fd4d87",
   "metadata": {},
   "outputs": [],
   "source": [
    "assoc_cramers = []\n",
    "for i in df1.columns:\n",
    "    assoc = round(cramers(df1['y'],df1[i]),2)\n",
    "    assoc_cramers.append(assoc)"
   ]
  },
  {
   "cell_type": "code",
   "execution_count": 44,
   "id": "92b3d6a7-76d4-4c1c-8ff8-6cfc138f8dba",
   "metadata": {},
   "outputs": [],
   "source": [
    "df_cramers = pd.DataFrame(data=[assoc_cramers],index=['y'],columns=df1.columns)"
   ]
  },
  {
   "cell_type": "code",
   "execution_count": 45,
   "id": "c08569db-e3c2-44e0-9313-1818be89c648",
   "metadata": {},
   "outputs": [
    {
     "data": {
      "image/png": "[encoded data removed]",
      "text/plain": [
       "<Figure size 1584x72 with 1 Axes>"
      ]
     },
     "metadata": {
      "needs_background": "light"
     },
     "output_type": "display_data"
    }
   ],
   "source": [
    "plt.figure(figsize=(22,1))\n",
    "sns.heatmap(df_cramers,cbar=False,annot=True);"
   ]
  },
  {
   "cell_type": "code",
   "execution_count": 46,
   "id": "e2fa0828-e5d1-4ec0-aa17-356c8514a6a7",
   "metadata": {},
   "outputs": [],
   "source": [
    "# Correlation Ratio for 'balance' Features"
   ]
  },
  {
   "cell_type": "code",
   "execution_count": 47,
   "id": "9dfc3f97-7f22-4a06-9054-b9eca8ad3f4c",
   "metadata": {},
   "outputs": [],
   "source": [
    "def corr_ratio(categories,measurement):\n",
    "    fcat, _ = pd.factorize(categories)\n",
    "    cat_num = np.max(fcat) + 1\n",
    "    y_avg_array = np.zeros(cat_num)\n",
    "    n_array = np.zeros(cat_num)\n",
    "    for i in range(0, cat_num):\n",
    "        cat_measure = measurement[np.argwhere(fcat==i).flatten()]\n",
    "        n_array[i] = len(cat_measure)\n",
    "        y_avg_array[i] = np.average(cat_measure)\n",
    "    y_total_avg = np.sum(np.multiply(y_avg_array,n_array)) / np.sum(n_array)\n",
    "    numerator = np.sum(np.multiply(n_array,np.power(np.subtract(y_avg_array,y_total_avg),2)))\n",
    "    denominator = np.sum(np.power(np.subtract(measurement,y_total_avg),2))\n",
    "    if numerator == 0:\n",
    "        eta = 0.0\n",
    "    else:\n",
    "        eta = np.sqrt(numerator/denominator)\n",
    "    return eta"
   ]
  },
  {
   "cell_type": "code",
   "execution_count": 48,
   "id": "f1530dc9-9d8b-4b79-b35f-d875c2f16345",
   "metadata": {},
   "outputs": [
    {
     "data": {
      "text/plain": [
       "0.017905098387636383"
      ]
     },
     "execution_count": 48,
     "metadata": {},
     "output_type": "execute_result"
    }
   ],
   "source": [
    "corr_ratio(df1['y'],df1['balance'])"
   ]
  },
  {
   "cell_type": "code",
   "execution_count": 49,
   "id": "983d25df-6a2a-49cf-be53-ef122df084b2",
   "metadata": {},
   "outputs": [],
   "source": [
    "# Feature Selection"
   ]
  },
  {
   "cell_type": "code",
   "execution_count": 50,
   "id": "fa3ce3aa-434b-4698-865f-e89123ddfda9",
   "metadata": {},
   "outputs": [],
   "source": [
    "df1.drop(columns=['job','marital','education','default','loan'],inplace=True)"
   ]
  },
  {
   "cell_type": "code",
   "execution_count": 51,
   "id": "b5e2667a-5132-41cd-b78d-25379020b1ce",
   "metadata": {},
   "outputs": [
    {
     "data": {
      "text/html": [
       "<div>\n",
       "<style scoped>\n",
       "    .dataframe tbody tr th:only-of-type {\n",
       "        vertical-align: middle;\n",
       "    }\n",
       "\n",
       "    .dataframe tbody tr th {\n",
       "        vertical-align: top;\n",
       "    }\n",
       "\n",
       "    .dataframe thead th {\n",
       "        text-align: right;\n",
       "    }\n",
       "</style>\n",
       "<table border=\"1\" class=\"dataframe\">\n",
       "  <thead>\n",
       "    <tr style=\"text-align: right;\">\n",
       "      <th></th>\n",
       "      <th>age</th>\n",
       "      <th>balance</th>\n",
       "      <th>housing</th>\n",
       "      <th>contact</th>\n",
       "      <th>duration</th>\n",
       "      <th>pdays</th>\n",
       "      <th>previous</th>\n",
       "      <th>y</th>\n",
       "    </tr>\n",
       "  </thead>\n",
       "  <tbody>\n",
       "    <tr>\n",
       "      <th>0</th>\n",
       "      <td>30</td>\n",
       "      <td>1787</td>\n",
       "      <td>0</td>\n",
       "      <td>1</td>\n",
       "      <td>79</td>\n",
       "      <td>0</td>\n",
       "      <td>0</td>\n",
       "      <td>0</td>\n",
       "    </tr>\n",
       "    <tr>\n",
       "      <th>1</th>\n",
       "      <td>33</td>\n",
       "      <td>4789</td>\n",
       "      <td>1</td>\n",
       "      <td>1</td>\n",
       "      <td>220</td>\n",
       "      <td>339</td>\n",
       "      <td>4</td>\n",
       "      <td>0</td>\n",
       "    </tr>\n",
       "    <tr>\n",
       "      <th>2</th>\n",
       "      <td>35</td>\n",
       "      <td>1350</td>\n",
       "      <td>1</td>\n",
       "      <td>1</td>\n",
       "      <td>185</td>\n",
       "      <td>330</td>\n",
       "      <td>1</td>\n",
       "      <td>0</td>\n",
       "    </tr>\n",
       "    <tr>\n",
       "      <th>3</th>\n",
       "      <td>30</td>\n",
       "      <td>1476</td>\n",
       "      <td>1</td>\n",
       "      <td>0</td>\n",
       "      <td>199</td>\n",
       "      <td>0</td>\n",
       "      <td>0</td>\n",
       "      <td>0</td>\n",
       "    </tr>\n",
       "    <tr>\n",
       "      <th>4</th>\n",
       "      <td>59</td>\n",
       "      <td>0</td>\n",
       "      <td>1</td>\n",
       "      <td>0</td>\n",
       "      <td>226</td>\n",
       "      <td>0</td>\n",
       "      <td>0</td>\n",
       "      <td>0</td>\n",
       "    </tr>\n",
       "  </tbody>\n",
       "</table>\n",
       "</div>"
      ],
      "text/plain": [
       "   age  balance  housing  contact  duration  pdays  previous  y\n",
       "0   30     1787        0        1        79      0         0  0\n",
       "1   33     4789        1        1       220    339         4  0\n",
       "2   35     1350        1        1       185    330         1  0\n",
       "3   30     1476        1        0       199      0         0  0\n",
       "4   59        0        1        0       226      0         0  0"
      ]
     },
     "execution_count": 51,
     "metadata": {},
     "output_type": "execute_result"
    }
   ],
   "source": [
    "df1.head()"
   ]
  },
  {
   "cell_type": "code",
   "execution_count": 52,
   "id": "7ff23394-13ed-49dd-a250-61d8b760f0fb",
   "metadata": {},
   "outputs": [],
   "source": [
    "# Splitting Data"
   ]
  },
  {
   "cell_type": "code",
   "execution_count": 53,
   "id": "66a20d68-684f-40ac-a556-31f13f84b3ac",
   "metadata": {},
   "outputs": [],
   "source": [
    "from sklearn.model_selection import train_test_split"
   ]
  },
  {
   "cell_type": "code",
   "execution_count": 54,
   "id": "50870cf4-3fbb-4ac6-beef-c6b34a2fcdf4",
   "metadata": {},
   "outputs": [],
   "source": [
    "X = df1.drop(columns='y')\n",
    "y = df1['y']"
   ]
  },
  {
   "cell_type": "code",
   "execution_count": 55,
   "id": "5224e9f7-0e6a-458f-99ff-32067ab5ec5c",
   "metadata": {},
   "outputs": [],
   "source": [
    "X_train,X_test,y_train,y_test = train_test_split(X,y,train_size=0.80,stratify=y,random_state=42)"
   ]
  },
  {
   "cell_type": "code",
   "execution_count": 56,
   "id": "87b09a0f-57f2-48f9-8cf9-bbcf5b183bbd",
   "metadata": {},
   "outputs": [
    {
     "data": {
      "text/plain": [
       "(3616, 7)"
      ]
     },
     "execution_count": 56,
     "metadata": {},
     "output_type": "execute_result"
    }
   ],
   "source": [
    "X_train.shape"
   ]
  },
  {
   "cell_type": "code",
   "execution_count": 57,
   "id": "41c10f97-209b-495f-904a-0f766708296d",
   "metadata": {},
   "outputs": [
    {
     "data": {
      "text/plain": [
       "(905, 7)"
      ]
     },
     "execution_count": 57,
     "metadata": {},
     "output_type": "execute_result"
    }
   ],
   "source": [
    "X_test.shape"
   ]
  },
  {
   "cell_type": "code",
   "execution_count": 58,
   "id": "3ddca9fc-ac3f-498e-a72a-7ecdff8dfc22",
   "metadata": {},
   "outputs": [],
   "source": [
    "# Base Model"
   ]
  },
  {
   "cell_type": "code",
   "execution_count": 59,
   "id": "5b8fffc4-b4a1-4d1e-b7a8-e6dbb2ca7f3e",
   "metadata": {},
   "outputs": [],
   "source": [
    "from sklearn.linear_model import LogisticRegression"
   ]
  },
  {
   "cell_type": "code",
   "execution_count": 60,
   "id": "9e18d04f-9c70-42e7-bd96-ef28ebe56c8b",
   "metadata": {},
   "outputs": [],
   "source": [
    "from sklearn.neighbors import KNeighborsClassifier"
   ]
  },
  {
   "cell_type": "code",
   "execution_count": 61,
   "id": "33ff72b7-efdc-4134-9b29-b7f602e0540d",
   "metadata": {},
   "outputs": [],
   "source": [
    "from sklearn.svm import SVC"
   ]
  },
  {
   "cell_type": "code",
   "execution_count": 62,
   "id": "df736d7a-0cfd-41b3-85e9-07a3c46ba088",
   "metadata": {},
   "outputs": [],
   "source": [
    "Model_LR = LogisticRegression()"
   ]
  },
  {
   "cell_type": "code",
   "execution_count": 63,
   "id": "b468b6c3-4499-40d6-846f-aa23d9f3f783",
   "metadata": {},
   "outputs": [],
   "source": [
    "Model_KNN = KNeighborsClassifier()"
   ]
  },
  {
   "cell_type": "code",
   "execution_count": 64,
   "id": "6be72471-7fbe-4ed4-8a52-c946f2341ef8",
   "metadata": {},
   "outputs": [],
   "source": [
    "Model_SVM = SVC()"
   ]
  },
  {
   "cell_type": "code",
   "execution_count": 65,
   "id": "5cc6be61-172f-4502-9ba0-6d18e9b1ecfd",
   "metadata": {},
   "outputs": [
    {
     "data": {
      "text/plain": [
       "LogisticRegression()"
      ]
     },
     "execution_count": 65,
     "metadata": {},
     "output_type": "execute_result"
    }
   ],
   "source": [
    "Model_LR.fit(X_train,y_train)\n"
   ]
  },
  {
   "cell_type": "code",
   "execution_count": 66,
   "id": "f664a0a8-d2a6-4a86-b675-2ab009de3b6d",
   "metadata": {},
   "outputs": [
    {
     "data": {
      "text/plain": [
       "KNeighborsClassifier()"
      ]
     },
     "execution_count": 66,
     "metadata": {},
     "output_type": "execute_result"
    }
   ],
   "source": [
    "Model_KNN.fit(X_train,y_train)"
   ]
  },
  {
   "cell_type": "code",
   "execution_count": 67,
   "id": "71d3bb0f-7504-479e-9def-ce35bca160f7",
   "metadata": {},
   "outputs": [
    {
     "data": {
      "text/plain": [
       "SVC()"
      ]
     },
     "execution_count": 67,
     "metadata": {},
     "output_type": "execute_result"
    }
   ],
   "source": [
    "Model_SVM.fit(X_train,y_train)"
   ]
  },
  {
   "cell_type": "code",
   "execution_count": 68,
   "id": "d3e81258-5969-4a81-84cd-5f74ffd2593a",
   "metadata": {},
   "outputs": [],
   "source": [
    "from sklearn.metrics import accuracy_score,recall_score,precision_score,f1_score,confusion_matrix,classification_report,roc_curve,roc_auc_score,auc"
   ]
  },
  {
   "cell_type": "code",
   "execution_count": 69,
   "id": "fbc2bd63-de76-4120-a888-045843482ca1",
   "metadata": {},
   "outputs": [],
   "source": [
    "def Eva_Matrix_Class(Model,X,y_true):\n",
    "    y_pred = Model.predict(X)\n",
    "    acc = accuracy_score(y_true,y_pred)\n",
    "    rec = recall_score(y_true,y_pred)\n",
    "    prec = precision_score(y_true,y_pred)\n",
    "    roc = roc_auc_score(y_true,y_pred)\n",
    "    f1 = f1_score(y_true,y_pred)\n",
    "    cm = confusion_matrix(y_true,y_pred,labels=[1,0])\n",
    "    df_cm = pd.DataFrame(data=cm,columns=['Pred 1','Pred 0'],index=['Akt 1','Akt 0'])\n",
    "    cr = classification_report(y_true,y_pred)\n",
    "    return acc, rec, prec, roc, f1, df_cm, cr"
   ]
  },
  {
   "cell_type": "code",
   "execution_count": 70,
   "id": "67f8b687-863c-435b-8907-7b1134c049f5",
   "metadata": {},
   "outputs": [],
   "source": [
    "# Evaluation Matrix Base Model"
   ]
  },
  {
   "cell_type": "code",
   "execution_count": 71,
   "id": "b078fd53-077e-4b9f-8211-be47837b97e4",
   "metadata": {},
   "outputs": [],
   "source": [
    "acc_LR, rec_LR, prec_LR, roc_LR, f1_LR, cm_LR , cr_LR = Eva_Matrix_Class(Model_LR,X_test,y_test)"
   ]
  },
  {
   "cell_type": "code",
   "execution_count": 72,
   "id": "7c39385b-01ef-4ea0-9921-28bd0c954e1f",
   "metadata": {},
   "outputs": [],
   "source": [
    "acc_KNN, rec_KNN, prec_KNN, roc_KNN, f1_KNN, cm_KNN , cr_KNN = Eva_Matrix_Class(Model_KNN,X_test,y_test)"
   ]
  },
  {
   "cell_type": "code",
   "execution_count": 73,
   "id": "147c5e57-543b-445d-968d-f5b13599bd56",
   "metadata": {},
   "outputs": [],
   "source": [
    "acc_SVM, rec_SVM, prec_SVM, roc_SVM, f1_SVM, cm_SVM , cr_SVM = Eva_Matrix_Class(Model_SVM,X_test,y_test)"
   ]
  },
  {
   "cell_type": "code",
   "execution_count": 74,
   "id": "03f88f07-948c-41a8-bf8f-21dea8dd6f65",
   "metadata": {},
   "outputs": [
    {
     "data": {
      "image/png": "[encoded data removed]",
      "text/plain": [
       "<Figure size 432x288 with 1 Axes>"
      ]
     },
     "metadata": {
      "needs_background": "light"
     },
     "output_type": "display_data"
    }
   ],
   "source": [
    "sns.heatmap(cm_LR,cbar=False,annot=True);"
   ]
  },
  {
   "cell_type": "code",
   "execution_count": 75,
   "id": "b52b5b42-5712-4d5c-be54-ab9e0dca9cea",
   "metadata": {},
   "outputs": [
    {
     "data": {
      "image/png": "[encoded data removed]",
      "text/plain": [
       "<Figure size 432x288 with 1 Axes>"
      ]
     },
     "metadata": {
      "needs_background": "light"
     },
     "output_type": "display_data"
    }
   ],
   "source": [
    "sns.heatmap(cm_KNN,cbar=False,annot=True);"
   ]
  },
  {
   "cell_type": "code",
   "execution_count": 76,
   "id": "bbf3478a-4ecd-494b-94d9-47d5ab8b38c5",
   "metadata": {},
   "outputs": [
    {
     "data": {
      "image/png": "[encoded data removed]",
      "text/plain": [
       "<Figure size 432x288 with 1 Axes>"
      ]
     },
     "metadata": {
      "needs_background": "light"
     },
     "output_type": "display_data"
    }
   ],
   "source": [
    "sns.heatmap(cm_SVM,cbar=False,annot=True);"
   ]
  },
  {
   "cell_type": "code",
   "execution_count": 77,
   "id": "2b24b6de-4ba3-49c5-a650-57709c2f69d8",
   "metadata": {},
   "outputs": [
    {
     "name": "stdout",
     "output_type": "stream",
     "text": [
      "              precision    recall  f1-score   support\n",
      "\n",
      "           0       0.90      0.97      0.93       801\n",
      "           1       0.40      0.15      0.22       104\n",
      "\n",
      "    accuracy                           0.88       905\n",
      "   macro avg       0.65      0.56      0.58       905\n",
      "weighted avg       0.84      0.88      0.85       905\n",
      "\n"
     ]
    }
   ],
   "source": [
    "print(cr_LR)"
   ]
  },
  {
   "cell_type": "code",
   "execution_count": 78,
   "id": "308eb6ff-5083-4328-81ed-16cc7764c748",
   "metadata": {},
   "outputs": [
    {
     "name": "stdout",
     "output_type": "stream",
     "text": [
      "              precision    recall  f1-score   support\n",
      "\n",
      "           0       0.90      0.97      0.94       801\n",
      "           1       0.47      0.21      0.29       104\n",
      "\n",
      "    accuracy                           0.88       905\n",
      "   macro avg       0.69      0.59      0.61       905\n",
      "weighted avg       0.85      0.88      0.86       905\n",
      "\n"
     ]
    }
   ],
   "source": [
    "print(cr_KNN)"
   ]
  },
  {
   "cell_type": "code",
   "execution_count": 79,
   "id": "e33c49f2-0eac-4065-ab10-ea96b1e7ea57",
   "metadata": {},
   "outputs": [
    {
     "name": "stdout",
     "output_type": "stream",
     "text": [
      "              precision    recall  f1-score   support\n",
      "\n",
      "           0       0.89      1.00      0.94       801\n",
      "           1       0.00      0.00      0.00       104\n",
      "\n",
      "    accuracy                           0.89       905\n",
      "   macro avg       0.44      0.50      0.47       905\n",
      "weighted avg       0.78      0.89      0.83       905\n",
      "\n"
     ]
    }
   ],
   "source": [
    "print(cr_SVM)"
   ]
  },
  {
   "cell_type": "code",
   "execution_count": 80,
   "id": "a35beefc-3bd5-4f03-99d5-5268d70d2b65",
   "metadata": {},
   "outputs": [],
   "source": [
    "data_base = {\n",
    "    'LR' :[acc_LR, rec_LR, prec_LR, roc_LR, f1_LR],\n",
    "    'KNN' :[acc_KNN, rec_KNN, prec_KNN, roc_KNN, f1_KNN],\n",
    "    'SVM' :[acc_SVM, rec_SVM, prec_SVM, roc_SVM, f1_SVM]\n",
    "}"
   ]
  },
  {
   "cell_type": "code",
   "execution_count": 81,
   "id": "83b5651a-1cf9-451c-be47-5808fa03f015",
   "metadata": {},
   "outputs": [
    {
     "data": {
      "text/html": [
       "<div>\n",
       "<style scoped>\n",
       "    .dataframe tbody tr th:only-of-type {\n",
       "        vertical-align: middle;\n",
       "    }\n",
       "\n",
       "    .dataframe tbody tr th {\n",
       "        vertical-align: top;\n",
       "    }\n",
       "\n",
       "    .dataframe thead th {\n",
       "        text-align: right;\n",
       "    }\n",
       "</style>\n",
       "<table border=\"1\" class=\"dataframe\">\n",
       "  <thead>\n",
       "    <tr style=\"text-align: right;\">\n",
       "      <th></th>\n",
       "      <th>LR</th>\n",
       "      <th>KNN</th>\n",
       "      <th>SVM</th>\n",
       "    </tr>\n",
       "  </thead>\n",
       "  <tbody>\n",
       "    <tr>\n",
       "      <th>Accuracy</th>\n",
       "      <td>0.876243</td>\n",
       "      <td>0.881768</td>\n",
       "      <td>0.885083</td>\n",
       "    </tr>\n",
       "    <tr>\n",
       "      <th>Recall</th>\n",
       "      <td>0.153846</td>\n",
       "      <td>0.211538</td>\n",
       "      <td>0.000000</td>\n",
       "    </tr>\n",
       "    <tr>\n",
       "      <th>Precision</th>\n",
       "      <td>0.400000</td>\n",
       "      <td>0.468085</td>\n",
       "      <td>0.000000</td>\n",
       "    </tr>\n",
       "    <tr>\n",
       "      <th>ROC_AUC</th>\n",
       "      <td>0.561942</td>\n",
       "      <td>0.590164</td>\n",
       "      <td>0.500000</td>\n",
       "    </tr>\n",
       "    <tr>\n",
       "      <th>F1</th>\n",
       "      <td>0.222222</td>\n",
       "      <td>0.291391</td>\n",
       "      <td>0.000000</td>\n",
       "    </tr>\n",
       "  </tbody>\n",
       "</table>\n",
       "</div>"
      ],
      "text/plain": [
       "                 LR       KNN       SVM\n",
       "Accuracy   0.876243  0.881768  0.885083\n",
       "Recall     0.153846  0.211538  0.000000\n",
       "Precision  0.400000  0.468085  0.000000\n",
       "ROC_AUC    0.561942  0.590164  0.500000\n",
       "F1         0.222222  0.291391  0.000000"
      ]
     },
     "execution_count": 81,
     "metadata": {},
     "output_type": "execute_result"
    }
   ],
   "source": [
    "pd.DataFrame(data_base,index=['Accuracy','Recall','Precision','ROC_AUC','F1'])"
   ]
  },
  {
   "cell_type": "code",
   "execution_count": 82,
   "id": "290e57c9-081c-4c6a-a139-0192e3fd0988",
   "metadata": {},
   "outputs": [],
   "source": [
    "# Improvement Class Weight (Handling Imbalance)"
   ]
  },
  {
   "cell_type": "code",
   "execution_count": 83,
   "id": "d1b9178b-81e9-4543-83a7-a5cdbba23e0b",
   "metadata": {},
   "outputs": [],
   "source": [
    "cw = np.arange(0,1,0.1)\n",
    "f1 = []\n",
    "for i in cw:\n",
    "    SVM = SVC(class_weight={0:i, 1:(1-i)})\n",
    "    SVM.fit(X_train,y_train)\n",
    "    y_pred = SVM.predict(X_test)\n",
    "    f1_ = f1_score(y_test,y_pred)\n",
    "    f1.append(f1_)"
   ]
  },
  {
   "cell_type": "code",
   "execution_count": 84,
   "id": "42bb85b7-240a-450a-a6a9-10321e016f4a",
   "metadata": {},
   "outputs": [
    {
     "data": {
      "image/png": "[encoded data removed]",
      "text/plain": [
       "<Figure size 936x648 with 1 Axes>"
      ]
     },
     "metadata": {
      "needs_background": "light"
     },
     "output_type": "display_data"
    }
   ],
   "source": [
    "plt.figure(figsize=(13,9))\n",
    "plt.plot(cw,f1,'b',label='Test Score')\n",
    "plt.legend()\n",
    "plt.show()"
   ]
  },
  {
   "cell_type": "code",
   "execution_count": 85,
   "id": "c8b68b94-0912-491a-911d-0deb2bedf27b",
   "metadata": {},
   "outputs": [
    {
     "data": {
      "text/plain": [
       "0.2"
      ]
     },
     "execution_count": 85,
     "metadata": {},
     "output_type": "execute_result"
    }
   ],
   "source": [
    "cw[np.argmax(f1)]"
   ]
  },
  {
   "cell_type": "code",
   "execution_count": 86,
   "id": "684fb4d6-d798-492b-91a7-82e20c1e9b22",
   "metadata": {},
   "outputs": [],
   "source": [
    "Model_SVM_CW = SVC(class_weight={0:0.2,1:0.8})"
   ]
  },
  {
   "cell_type": "code",
   "execution_count": 87,
   "id": "62b26c6f-9001-412d-9d91-e829b75b3da3",
   "metadata": {},
   "outputs": [
    {
     "data": {
      "text/plain": [
       "SVC(class_weight={0: 0.2, 1: 0.8})"
      ]
     },
     "execution_count": 87,
     "metadata": {},
     "output_type": "execute_result"
    }
   ],
   "source": [
    "Model_SVM_CW.fit(X_train,y_train)"
   ]
  },
  {
   "cell_type": "code",
   "execution_count": 88,
   "id": "434c7354-9275-419a-b766-0b56631bc92d",
   "metadata": {},
   "outputs": [],
   "source": [
    "acc_SVM_CW, rec_SVM_CW, prec_SVM_CW, roc_SVM_CW, f1_SVM_CW, cm_SVM_CW , cr_SVM_CW = Eva_Matrix_Class(Model_SVM_CW,X_test,y_test)"
   ]
  },
  {
   "cell_type": "code",
   "execution_count": 89,
   "id": "2e900032-e408-45af-a776-ef3b6de0f976",
   "metadata": {},
   "outputs": [
    {
     "data": {
      "image/png": "[encoded data removed]",
      "text/plain": [
       "<Figure size 432x288 with 1 Axes>"
      ]
     },
     "metadata": {
      "needs_background": "light"
     },
     "output_type": "display_data"
    }
   ],
   "source": [
    "sns.heatmap(cm_SVM_CW,cbar=False,annot=True);"
   ]
  },
  {
   "cell_type": "code",
   "execution_count": 90,
   "id": "be59d615-cadc-4562-924c-22439a0c2ff4",
   "metadata": {},
   "outputs": [
    {
     "name": "stdout",
     "output_type": "stream",
     "text": [
      "              precision    recall  f1-score   support\n",
      "\n",
      "           0       0.92      0.93      0.93       801\n",
      "           1       0.43      0.40      0.42       104\n",
      "\n",
      "    accuracy                           0.87       905\n",
      "   macro avg       0.68      0.67      0.67       905\n",
      "weighted avg       0.87      0.87      0.87       905\n",
      "\n"
     ]
    }
   ],
   "source": [
    "print(cr_SVM_CW)"
   ]
  },
  {
   "cell_type": "code",
   "execution_count": 91,
   "id": "d809f851-22e6-44fd-99db-084d7f232c8e",
   "metadata": {},
   "outputs": [],
   "source": [
    "data_base = {\n",
    "    'LR' :[acc_LR, rec_LR, prec_LR, roc_LR, f1_LR],\n",
    "    'KNN' :[acc_KNN, rec_KNN, prec_KNN, roc_KNN, f1_KNN],\n",
    "    'SVM' :[acc_SVM, rec_SVM, prec_SVM, roc_SVM, f1_SVM],\n",
    "    'SVM_Class_Weight' : [acc_SVM_CW, rec_SVM_CW, prec_SVM_CW, roc_SVM_CW, f1_SVM_CW]\n",
    "}"
   ]
  },
  {
   "cell_type": "code",
   "execution_count": 92,
   "id": "b7deecfc-c262-49e9-85b7-430938e1ad00",
   "metadata": {},
   "outputs": [
    {
     "data": {
      "text/html": [
       "<div>\n",
       "<style scoped>\n",
       "    .dataframe tbody tr th:only-of-type {\n",
       "        vertical-align: middle;\n",
       "    }\n",
       "\n",
       "    .dataframe tbody tr th {\n",
       "        vertical-align: top;\n",
       "    }\n",
       "\n",
       "    .dataframe thead th {\n",
       "        text-align: right;\n",
       "    }\n",
       "</style>\n",
       "<table border=\"1\" class=\"dataframe\">\n",
       "  <thead>\n",
       "    <tr style=\"text-align: right;\">\n",
       "      <th></th>\n",
       "      <th>LR</th>\n",
       "      <th>KNN</th>\n",
       "      <th>SVM</th>\n",
       "      <th>SVM_Class_Weight</th>\n",
       "    </tr>\n",
       "  </thead>\n",
       "  <tbody>\n",
       "    <tr>\n",
       "      <th>Accuracy</th>\n",
       "      <td>0.876243</td>\n",
       "      <td>0.881768</td>\n",
       "      <td>0.885083</td>\n",
       "      <td>0.870718</td>\n",
       "    </tr>\n",
       "    <tr>\n",
       "      <th>Recall</th>\n",
       "      <td>0.153846</td>\n",
       "      <td>0.211538</td>\n",
       "      <td>0.000000</td>\n",
       "      <td>0.403846</td>\n",
       "    </tr>\n",
       "    <tr>\n",
       "      <th>Precision</th>\n",
       "      <td>0.400000</td>\n",
       "      <td>0.468085</td>\n",
       "      <td>0.000000</td>\n",
       "      <td>0.432990</td>\n",
       "    </tr>\n",
       "    <tr>\n",
       "      <th>ROC_AUC</th>\n",
       "      <td>0.561942</td>\n",
       "      <td>0.590164</td>\n",
       "      <td>0.500000</td>\n",
       "      <td>0.667591</td>\n",
       "    </tr>\n",
       "    <tr>\n",
       "      <th>F1</th>\n",
       "      <td>0.222222</td>\n",
       "      <td>0.291391</td>\n",
       "      <td>0.000000</td>\n",
       "      <td>0.417910</td>\n",
       "    </tr>\n",
       "  </tbody>\n",
       "</table>\n",
       "</div>"
      ],
      "text/plain": [
       "                 LR       KNN       SVM  SVM_Class_Weight\n",
       "Accuracy   0.876243  0.881768  0.885083          0.870718\n",
       "Recall     0.153846  0.211538  0.000000          0.403846\n",
       "Precision  0.400000  0.468085  0.000000          0.432990\n",
       "ROC_AUC    0.561942  0.590164  0.500000          0.667591\n",
       "F1         0.222222  0.291391  0.000000          0.417910"
      ]
     },
     "execution_count": 92,
     "metadata": {},
     "output_type": "execute_result"
    }
   ],
   "source": [
    "pd.DataFrame(data_base,index=['Accuracy','Recall','Precision','ROC_AUC','F1'])"
   ]
  },
  {
   "cell_type": "code",
   "execution_count": 93,
   "id": "3b0b0295-57c0-48d6-9974-ee0749a38b3b",
   "metadata": {},
   "outputs": [],
   "source": [
    "# Improvement Scaling"
   ]
  },
  {
   "cell_type": "code",
   "execution_count": 94,
   "id": "494d09ca-7be4-4b05-b234-80ee6b61db32",
   "metadata": {},
   "outputs": [],
   "source": [
    "from sklearn.preprocessing import RobustScaler"
   ]
  },
  {
   "cell_type": "code",
   "execution_count": 95,
   "id": "fdfc45ac-142d-41c5-b9b6-b26596cbddc5",
   "metadata": {},
   "outputs": [],
   "source": [
    "sc = RobustScaler()"
   ]
  },
  {
   "cell_type": "code",
   "execution_count": 96,
   "id": "1a433139-4a5f-48d5-80bd-6be89ef0e21d",
   "metadata": {},
   "outputs": [],
   "source": [
    "num_col = df1[['balance']]"
   ]
  },
  {
   "cell_type": "code",
   "execution_count": 97,
   "id": "01e4e9f4-1ad3-47eb-90a7-209aa78c71bd",
   "metadata": {},
   "outputs": [],
   "source": [
    "sc_num = sc.fit_transform(num_col)"
   ]
  },
  {
   "cell_type": "code",
   "execution_count": 98,
   "id": "e4549262-6605-4b1b-b9a6-580869c41519",
   "metadata": {},
   "outputs": [],
   "source": [
    "sc_df = pd.DataFrame(sc_num)"
   ]
  },
  {
   "cell_type": "code",
   "execution_count": 99,
   "id": "5822c06c-1e31-431d-987b-4a263a0cddb2",
   "metadata": {},
   "outputs": [
    {
     "data": {
      "text/html": [
       "<div>\n",
       "<style scoped>\n",
       "    .dataframe tbody tr th:only-of-type {\n",
       "        vertical-align: middle;\n",
       "    }\n",
       "\n",
       "    .dataframe tbody tr th {\n",
       "        vertical-align: top;\n",
       "    }\n",
       "\n",
       "    .dataframe thead th {\n",
       "        text-align: right;\n",
       "    }\n",
       "</style>\n",
       "<table border=\"1\" class=\"dataframe\">\n",
       "  <thead>\n",
       "    <tr style=\"text-align: right;\">\n",
       "      <th></th>\n",
       "      <th>0</th>\n",
       "    </tr>\n",
       "  </thead>\n",
       "  <tbody>\n",
       "    <tr>\n",
       "      <th>0</th>\n",
       "      <td>0.951807</td>\n",
       "    </tr>\n",
       "    <tr>\n",
       "      <th>1</th>\n",
       "      <td>3.079376</td>\n",
       "    </tr>\n",
       "    <tr>\n",
       "      <th>2</th>\n",
       "      <td>0.642098</td>\n",
       "    </tr>\n",
       "    <tr>\n",
       "      <th>3</th>\n",
       "      <td>0.731396</td>\n",
       "    </tr>\n",
       "    <tr>\n",
       "      <th>4</th>\n",
       "      <td>-0.314670</td>\n",
       "    </tr>\n",
       "    <tr>\n",
       "      <th>...</th>\n",
       "      <td>...</td>\n",
       "    </tr>\n",
       "    <tr>\n",
       "      <th>4516</th>\n",
       "      <td>-0.550673</td>\n",
       "    </tr>\n",
       "    <tr>\n",
       "      <th>4517</th>\n",
       "      <td>-2.662651</td>\n",
       "    </tr>\n",
       "    <tr>\n",
       "      <th>4518</th>\n",
       "      <td>-0.105599</td>\n",
       "    </tr>\n",
       "    <tr>\n",
       "      <th>4519</th>\n",
       "      <td>0.491141</td>\n",
       "    </tr>\n",
       "    <tr>\n",
       "      <th>4520</th>\n",
       "      <td>0.490432</td>\n",
       "    </tr>\n",
       "  </tbody>\n",
       "</table>\n",
       "<p>4521 rows × 1 columns</p>\n",
       "</div>"
      ],
      "text/plain": [
       "             0\n",
       "0     0.951807\n",
       "1     3.079376\n",
       "2     0.642098\n",
       "3     0.731396\n",
       "4    -0.314670\n",
       "...        ...\n",
       "4516 -0.550673\n",
       "4517 -2.662651\n",
       "4518 -0.105599\n",
       "4519  0.491141\n",
       "4520  0.490432\n",
       "\n",
       "[4521 rows x 1 columns]"
      ]
     },
     "execution_count": 99,
     "metadata": {},
     "output_type": "execute_result"
    }
   ],
   "source": [
    "sc_df"
   ]
  },
  {
   "cell_type": "code",
   "execution_count": 100,
   "id": "9a5776e0-57f8-4431-9966-74e23af0c1f4",
   "metadata": {},
   "outputs": [],
   "source": [
    "df_sc = pd.concat([df1,sc_df],axis=1)"
   ]
  },
  {
   "cell_type": "code",
   "execution_count": 101,
   "id": "f00d334f-099b-4530-887a-cd70ab135662",
   "metadata": {},
   "outputs": [
    {
     "data": {
      "text/html": [
       "<div>\n",
       "<style scoped>\n",
       "    .dataframe tbody tr th:only-of-type {\n",
       "        vertical-align: middle;\n",
       "    }\n",
       "\n",
       "    .dataframe tbody tr th {\n",
       "        vertical-align: top;\n",
       "    }\n",
       "\n",
       "    .dataframe thead th {\n",
       "        text-align: right;\n",
       "    }\n",
       "</style>\n",
       "<table border=\"1\" class=\"dataframe\">\n",
       "  <thead>\n",
       "    <tr style=\"text-align: right;\">\n",
       "      <th></th>\n",
       "      <th>age</th>\n",
       "      <th>balance</th>\n",
       "      <th>housing</th>\n",
       "      <th>contact</th>\n",
       "      <th>duration</th>\n",
       "      <th>pdays</th>\n",
       "      <th>previous</th>\n",
       "      <th>y</th>\n",
       "      <th>0</th>\n",
       "    </tr>\n",
       "  </thead>\n",
       "  <tbody>\n",
       "    <tr>\n",
       "      <th>0</th>\n",
       "      <td>30</td>\n",
       "      <td>1787</td>\n",
       "      <td>0</td>\n",
       "      <td>1</td>\n",
       "      <td>79</td>\n",
       "      <td>0</td>\n",
       "      <td>0</td>\n",
       "      <td>0</td>\n",
       "      <td>0.951807</td>\n",
       "    </tr>\n",
       "    <tr>\n",
       "      <th>1</th>\n",
       "      <td>33</td>\n",
       "      <td>4789</td>\n",
       "      <td>1</td>\n",
       "      <td>1</td>\n",
       "      <td>220</td>\n",
       "      <td>339</td>\n",
       "      <td>4</td>\n",
       "      <td>0</td>\n",
       "      <td>3.079376</td>\n",
       "    </tr>\n",
       "    <tr>\n",
       "      <th>2</th>\n",
       "      <td>35</td>\n",
       "      <td>1350</td>\n",
       "      <td>1</td>\n",
       "      <td>1</td>\n",
       "      <td>185</td>\n",
       "      <td>330</td>\n",
       "      <td>1</td>\n",
       "      <td>0</td>\n",
       "      <td>0.642098</td>\n",
       "    </tr>\n",
       "    <tr>\n",
       "      <th>3</th>\n",
       "      <td>30</td>\n",
       "      <td>1476</td>\n",
       "      <td>1</td>\n",
       "      <td>0</td>\n",
       "      <td>199</td>\n",
       "      <td>0</td>\n",
       "      <td>0</td>\n",
       "      <td>0</td>\n",
       "      <td>0.731396</td>\n",
       "    </tr>\n",
       "    <tr>\n",
       "      <th>4</th>\n",
       "      <td>59</td>\n",
       "      <td>0</td>\n",
       "      <td>1</td>\n",
       "      <td>0</td>\n",
       "      <td>226</td>\n",
       "      <td>0</td>\n",
       "      <td>0</td>\n",
       "      <td>0</td>\n",
       "      <td>-0.314670</td>\n",
       "    </tr>\n",
       "    <tr>\n",
       "      <th>...</th>\n",
       "      <td>...</td>\n",
       "      <td>...</td>\n",
       "      <td>...</td>\n",
       "      <td>...</td>\n",
       "      <td>...</td>\n",
       "      <td>...</td>\n",
       "      <td>...</td>\n",
       "      <td>...</td>\n",
       "      <td>...</td>\n",
       "    </tr>\n",
       "    <tr>\n",
       "      <th>4516</th>\n",
       "      <td>33</td>\n",
       "      <td>-333</td>\n",
       "      <td>1</td>\n",
       "      <td>1</td>\n",
       "      <td>329</td>\n",
       "      <td>0</td>\n",
       "      <td>0</td>\n",
       "      <td>0</td>\n",
       "      <td>-0.550673</td>\n",
       "    </tr>\n",
       "    <tr>\n",
       "      <th>4517</th>\n",
       "      <td>57</td>\n",
       "      <td>-3313</td>\n",
       "      <td>1</td>\n",
       "      <td>0</td>\n",
       "      <td>153</td>\n",
       "      <td>0</td>\n",
       "      <td>0</td>\n",
       "      <td>0</td>\n",
       "      <td>-2.662651</td>\n",
       "    </tr>\n",
       "    <tr>\n",
       "      <th>4518</th>\n",
       "      <td>57</td>\n",
       "      <td>295</td>\n",
       "      <td>0</td>\n",
       "      <td>1</td>\n",
       "      <td>151</td>\n",
       "      <td>0</td>\n",
       "      <td>0</td>\n",
       "      <td>0</td>\n",
       "      <td>-0.105599</td>\n",
       "    </tr>\n",
       "    <tr>\n",
       "      <th>4519</th>\n",
       "      <td>28</td>\n",
       "      <td>1137</td>\n",
       "      <td>0</td>\n",
       "      <td>1</td>\n",
       "      <td>129</td>\n",
       "      <td>211</td>\n",
       "      <td>3</td>\n",
       "      <td>0</td>\n",
       "      <td>0.491141</td>\n",
       "    </tr>\n",
       "    <tr>\n",
       "      <th>4520</th>\n",
       "      <td>44</td>\n",
       "      <td>1136</td>\n",
       "      <td>1</td>\n",
       "      <td>1</td>\n",
       "      <td>345</td>\n",
       "      <td>249</td>\n",
       "      <td>7</td>\n",
       "      <td>0</td>\n",
       "      <td>0.490432</td>\n",
       "    </tr>\n",
       "  </tbody>\n",
       "</table>\n",
       "<p>4521 rows × 9 columns</p>\n",
       "</div>"
      ],
      "text/plain": [
       "      age  balance  housing  contact  duration  pdays  previous  y         0\n",
       "0      30     1787        0        1        79      0         0  0  0.951807\n",
       "1      33     4789        1        1       220    339         4  0  3.079376\n",
       "2      35     1350        1        1       185    330         1  0  0.642098\n",
       "3      30     1476        1        0       199      0         0  0  0.731396\n",
       "4      59        0        1        0       226      0         0  0 -0.314670\n",
       "...   ...      ...      ...      ...       ...    ...       ... ..       ...\n",
       "4516   33     -333        1        1       329      0         0  0 -0.550673\n",
       "4517   57    -3313        1        0       153      0         0  0 -2.662651\n",
       "4518   57      295        0        1       151      0         0  0 -0.105599\n",
       "4519   28     1137        0        1       129    211         3  0  0.491141\n",
       "4520   44     1136        1        1       345    249         7  0  0.490432\n",
       "\n",
       "[4521 rows x 9 columns]"
      ]
     },
     "execution_count": 101,
     "metadata": {},
     "output_type": "execute_result"
    }
   ],
   "source": [
    "df_sc"
   ]
  },
  {
   "cell_type": "code",
   "execution_count": 102,
   "id": "d1a52301-a6e4-476f-b49a-3296736b9f17",
   "metadata": {},
   "outputs": [],
   "source": [
    "df_sc.drop(columns='balance',inplace=True)"
   ]
  },
  {
   "cell_type": "code",
   "execution_count": 103,
   "id": "71dcfdcd-b066-4aa5-8f9b-6ea122972ee3",
   "metadata": {},
   "outputs": [],
   "source": [
    "X_sc = df_sc.drop(columns='y')\n",
    "y_sc = df_sc['y']"
   ]
  },
  {
   "cell_type": "code",
   "execution_count": 104,
   "id": "b1018e75-f085-4c6b-93d2-ee5bd2ad36f1",
   "metadata": {},
   "outputs": [],
   "source": [
    "X_train_sc,X_test_sc,y_train_sc,y_test_sc = train_test_split(X_sc,y_sc,train_size=0.80,stratify=y_sc,random_state=42)"
   ]
  },
  {
   "cell_type": "code",
   "execution_count": 105,
   "id": "06585c3b-6d93-4c73-80c1-88d0c78c4595",
   "metadata": {},
   "outputs": [
    {
     "data": {
      "text/plain": [
       "SVC(class_weight={0: 0.2, 1: 0.8})"
      ]
     },
     "execution_count": 105,
     "metadata": {},
     "output_type": "execute_result"
    }
   ],
   "source": [
    "Model_SVM_CW.fit(X_train_sc,y_train_sc)"
   ]
  },
  {
   "cell_type": "code",
   "execution_count": 106,
   "id": "751e2daf-8e59-40e1-8a2d-21958a917e9a",
   "metadata": {},
   "outputs": [],
   "source": [
    "acc_SVM_CW_SC, rec_SVM_CW_SC, prec_SVM_CW_SC, roc_SVM_CW_SC, f1_SVM_CW_SC, cm_SVM_CW_SC , cr_SVM_CW_SC = Eva_Matrix_Class(Model_SVM_CW,X_test_sc,y_test_sc)"
   ]
  },
  {
   "cell_type": "code",
   "execution_count": 107,
   "id": "c90c4b7b-b0f0-4dfa-9c89-fb7dfc89e456",
   "metadata": {},
   "outputs": [
    {
     "data": {
      "image/png": "[encoded data removed]",
      "text/plain": [
       "<Figure size 432x288 with 1 Axes>"
      ]
     },
     "metadata": {
      "needs_background": "light"
     },
     "output_type": "display_data"
    }
   ],
   "source": [
    "sns.heatmap(cm_SVM_CW_SC,cbar=False,annot=True);"
   ]
  },
  {
   "cell_type": "code",
   "execution_count": 108,
   "id": "9dad423b-dd21-481e-a260-a721e9ed3890",
   "metadata": {},
   "outputs": [
    {
     "name": "stdout",
     "output_type": "stream",
     "text": [
      "              precision    recall  f1-score   support\n",
      "\n",
      "           0       0.94      0.88      0.91       801\n",
      "           1       0.37      0.53      0.44       104\n",
      "\n",
      "    accuracy                           0.84       905\n",
      "   macro avg       0.65      0.71      0.67       905\n",
      "weighted avg       0.87      0.84      0.85       905\n",
      "\n"
     ]
    }
   ],
   "source": [
    "print(cr_SVM_CW_SC)"
   ]
  },
  {
   "cell_type": "code",
   "execution_count": 109,
   "id": "56243b28-c6d5-4a70-ad57-2452addd9fcb",
   "metadata": {},
   "outputs": [],
   "source": [
    "data_base = {\n",
    "    'LR' :[acc_LR, rec_LR, prec_LR, roc_LR, f1_LR],\n",
    "    'KNN' :[acc_KNN, rec_KNN, prec_KNN, roc_KNN, f1_KNN],\n",
    "    'SVM' :[acc_SVM, rec_SVM, prec_SVM, roc_SVM, f1_SVM],\n",
    "    'SVM_Class_Weight' : [acc_SVM_CW, rec_SVM_CW, prec_SVM_CW, roc_SVM_CW, f1_SVM_CW],\n",
    "    'SVM_Class_Weight_Scaled' : [acc_SVM_CW_SC, rec_SVM_CW_SC, prec_SVM_CW_SC, roc_SVM_CW_SC, f1_SVM_CW_SC]\n",
    "}"
   ]
  },
  {
   "cell_type": "code",
   "execution_count": 110,
   "id": "2e01e456-c13e-4b59-82ce-72d78715377d",
   "metadata": {},
   "outputs": [
    {
     "data": {
      "text/html": [
       "<div>\n",
       "<style scoped>\n",
       "    .dataframe tbody tr th:only-of-type {\n",
       "        vertical-align: middle;\n",
       "    }\n",
       "\n",
       "    .dataframe tbody tr th {\n",
       "        vertical-align: top;\n",
       "    }\n",
       "\n",
       "    .dataframe thead th {\n",
       "        text-align: right;\n",
       "    }\n",
       "</style>\n",
       "<table border=\"1\" class=\"dataframe\">\n",
       "  <thead>\n",
       "    <tr style=\"text-align: right;\">\n",
       "      <th></th>\n",
       "      <th>LR</th>\n",
       "      <th>KNN</th>\n",
       "      <th>SVM</th>\n",
       "      <th>SVM_Class_Weight</th>\n",
       "      <th>SVM_Class_Weight_Scaled</th>\n",
       "    </tr>\n",
       "  </thead>\n",
       "  <tbody>\n",
       "    <tr>\n",
       "      <th>Accuracy</th>\n",
       "      <td>0.876243</td>\n",
       "      <td>0.881768</td>\n",
       "      <td>0.885083</td>\n",
       "      <td>0.870718</td>\n",
       "      <td>0.843094</td>\n",
       "    </tr>\n",
       "    <tr>\n",
       "      <th>Recall</th>\n",
       "      <td>0.153846</td>\n",
       "      <td>0.211538</td>\n",
       "      <td>0.000000</td>\n",
       "      <td>0.403846</td>\n",
       "      <td>0.528846</td>\n",
       "    </tr>\n",
       "    <tr>\n",
       "      <th>Precision</th>\n",
       "      <td>0.400000</td>\n",
       "      <td>0.468085</td>\n",
       "      <td>0.000000</td>\n",
       "      <td>0.432990</td>\n",
       "      <td>0.371622</td>\n",
       "    </tr>\n",
       "    <tr>\n",
       "      <th>ROC_AUC</th>\n",
       "      <td>0.561942</td>\n",
       "      <td>0.590164</td>\n",
       "      <td>0.500000</td>\n",
       "      <td>0.667591</td>\n",
       "      <td>0.706371</td>\n",
       "    </tr>\n",
       "    <tr>\n",
       "      <th>F1</th>\n",
       "      <td>0.222222</td>\n",
       "      <td>0.291391</td>\n",
       "      <td>0.000000</td>\n",
       "      <td>0.417910</td>\n",
       "      <td>0.436508</td>\n",
       "    </tr>\n",
       "  </tbody>\n",
       "</table>\n",
       "</div>"
      ],
      "text/plain": [
       "                 LR       KNN       SVM  SVM_Class_Weight  \\\n",
       "Accuracy   0.876243  0.881768  0.885083          0.870718   \n",
       "Recall     0.153846  0.211538  0.000000          0.403846   \n",
       "Precision  0.400000  0.468085  0.000000          0.432990   \n",
       "ROC_AUC    0.561942  0.590164  0.500000          0.667591   \n",
       "F1         0.222222  0.291391  0.000000          0.417910   \n",
       "\n",
       "           SVM_Class_Weight_Scaled  \n",
       "Accuracy                  0.843094  \n",
       "Recall                    0.528846  \n",
       "Precision                 0.371622  \n",
       "ROC_AUC                   0.706371  \n",
       "F1                        0.436508  "
      ]
     },
     "execution_count": 110,
     "metadata": {},
     "output_type": "execute_result"
    }
   ],
   "source": [
    "pd.DataFrame(data_base,index=['Accuracy','Recall','Precision','ROC_AUC','F1'])"
   ]
  },
  {
   "cell_type": "code",
   "execution_count": 111,
   "id": "da4a54d8-1e99-44b4-990e-4e9024050654",
   "metadata": {},
   "outputs": [],
   "source": [
    "# Improvement Hyper Parameter Tuning and Cross Validation"
   ]
  },
  {
   "cell_type": "code",
   "execution_count": 112,
   "id": "2c627270-c3c0-42e4-88e3-ffa245507393",
   "metadata": {},
   "outputs": [],
   "source": [
    "from sklearn.model_selection import StratifiedKFold,GridSearchCV,cross_val_score"
   ]
  },
  {
   "cell_type": "code",
   "execution_count": 113,
   "id": "582be695-8c0a-40e9-93a8-13cb3f18a525",
   "metadata": {},
   "outputs": [],
   "source": [
    "skf = StratifiedKFold(n_splits=4)"
   ]
  },
  {
   "cell_type": "code",
   "execution_count": 114,
   "id": "0f1f643c-2009-4699-96a6-c4dd638b55fb",
   "metadata": {},
   "outputs": [],
   "source": [
    "Model_SVM_T = SVC(class_weight={0:0.2,1:0.8})"
   ]
  },
  {
   "cell_type": "code",
   "execution_count": 115,
   "id": "1dbe9970-08a1-448f-8fe0-7c83dcc49d78",
   "metadata": {},
   "outputs": [],
   "source": [
    "param_SVM ={\n",
    "    'C' : np.arange(1,10,0.5),\n",
    "    'gamma' :np.arange(1,10),\n",
    "}"
   ]
  },
  {
   "cell_type": "code",
   "execution_count": 116,
   "id": "c63a67ac-b9e1-41b4-a39a-04d219478626",
   "metadata": {},
   "outputs": [],
   "source": [
    "GS_SVM = GridSearchCV(Model_SVM_T,param_SVM,cv=skf,n_jobs = -1,verbose=1)"
   ]
  },
  {
   "cell_type": "code",
   "execution_count": 117,
   "id": "2ebdc9cc-421c-4295-83f1-2224a1f16de3",
   "metadata": {},
   "outputs": [
    {
     "name": "stdout",
     "output_type": "stream",
     "text": [
      "Fitting 4 folds for each of 162 candidates, totalling 648 fits\n"
     ]
    },
    {
     "data": {
      "text/plain": [
       "GridSearchCV(cv=StratifiedKFold(n_splits=4, random_state=None, shuffle=False),\n",
       "             estimator=SVC(class_weight={0: 0.2, 1: 0.8}), n_jobs=-1,\n",
       "             param_grid={'C': array([1. , 1.5, 2. , 2.5, 3. , 3.5, 4. , 4.5, 5. , 5.5, 6. , 6.5, 7. ,\n",
       "       7.5, 8. , 8.5, 9. , 9.5]),\n",
       "                         'gamma': array([1, 2, 3, 4, 5, 6, 7, 8, 9])},\n",
       "             verbose=1)"
      ]
     },
     "execution_count": 117,
     "metadata": {},
     "output_type": "execute_result"
    }
   ],
   "source": [
    "GS_SVM.fit(X_train_sc,y_train_sc)"
   ]
  },
  {
   "cell_type": "code",
   "execution_count": 118,
   "id": "29edb3d9-5643-4736-ac1e-3f3abf2f3e52",
   "metadata": {},
   "outputs": [
    {
     "data": {
      "text/plain": [
       "{'C': 1.0, 'gamma': 1}"
      ]
     },
     "execution_count": 118,
     "metadata": {},
     "output_type": "execute_result"
    }
   ],
   "source": [
    "GS_SVM.best_params_"
   ]
  },
  {
   "cell_type": "code",
   "execution_count": 119,
   "id": "61fd3528-3e06-4f43-9ed5-05f9047b2cf7",
   "metadata": {},
   "outputs": [
    {
     "data": {
      "text/plain": [
       "SVC(class_weight={0: 0.2, 1: 0.8}, gamma=1)"
      ]
     },
     "execution_count": 119,
     "metadata": {},
     "output_type": "execute_result"
    }
   ],
   "source": [
    "GS_SVM.best_estimator_"
   ]
  },
  {
   "cell_type": "code",
   "execution_count": 120,
   "id": "1841d81c-862f-495d-a1f8-70228b7256db",
   "metadata": {},
   "outputs": [],
   "source": [
    "Model_SVM_Tuned = GS_SVM.best_estimator_"
   ]
  },
  {
   "cell_type": "code",
   "execution_count": 126,
   "id": "3416d399-24fa-4fa9-9039-97de6ac2c32c",
   "metadata": {},
   "outputs": [],
   "source": [
    "ACC_SVM, REC_SVM, PREC_SVM, ROC_SVM, F1_SVM, CM_SVM , CR_SVM = Eva_Matrix_Class(Model_SVM_Tuned,X_test_sc,y_test_sc)"
   ]
  },
  {
   "cell_type": "code",
   "execution_count": 127,
   "id": "8b193bdc-fb92-4c7c-a117-88bed46fb424",
   "metadata": {},
   "outputs": [
    {
     "data": {
      "image/png": "[encoded data removed]",
      "text/plain": [
       "<Figure size 432x288 with 1 Axes>"
      ]
     },
     "metadata": {
      "needs_background": "light"
     },
     "output_type": "display_data"
    }
   ],
   "source": [
    "sns.heatmap(CM_SVM,cbar=False,annot=True);"
   ]
  },
  {
   "cell_type": "code",
   "execution_count": 128,
   "id": "e082fc4e-2e66-44b8-a44d-202c8c18dcc9",
   "metadata": {},
   "outputs": [
    {
     "name": "stdout",
     "output_type": "stream",
     "text": [
      "              precision    recall  f1-score   support\n",
      "\n",
      "           0       0.89      1.00      0.94       801\n",
      "           1       0.00      0.00      0.00       104\n",
      "\n",
      "    accuracy                           0.89       905\n",
      "   macro avg       0.44      0.50      0.47       905\n",
      "weighted avg       0.78      0.89      0.83       905\n",
      "\n"
     ]
    }
   ],
   "source": [
    "print(CR_SVM)"
   ]
  },
  {
   "cell_type": "code",
   "execution_count": 129,
   "id": "ef2caad3-b12e-49a2-9c06-8ce7feb3c067",
   "metadata": {},
   "outputs": [],
   "source": [
    "data_base = {\n",
    "    'LR' :[acc_LR, rec_LR, prec_LR, roc_LR, f1_LR],\n",
    "    'KNN' :[acc_KNN, rec_KNN, prec_KNN, roc_KNN, f1_KNN],\n",
    "    'SVM' :[acc_SVM, rec_SVM, prec_SVM, roc_SVM, f1_SVM],\n",
    "    'SVM_Class_Weight' : [acc_SVM_CW, rec_SVM_CW, prec_SVM_CW, roc_SVM_CW, f1_SVM_CW],\n",
    "    'SVM_Class_Weight_Scaled' : [acc_SVM_CW_SC, rec_SVM_CW_SC, prec_SVM_CW_SC, roc_SVM_CW_SC, f1_SVM_CW_SC],\n",
    "    'SVM_Hyperparameter_Tuning' :[ACC_SVM, REC_SVM, PREC_SVM, ROC_SVM, F1_SVM]\n",
    "}"
   ]
  },
  {
   "cell_type": "code",
   "execution_count": 130,
   "id": "8a14feb7-9a53-40fc-85aa-8fa582cc5cbe",
   "metadata": {},
   "outputs": [
    {
     "data": {
      "text/html": [
       "<div>\n",
       "<style scoped>\n",
       "    .dataframe tbody tr th:only-of-type {\n",
       "        vertical-align: middle;\n",
       "    }\n",
       "\n",
       "    .dataframe tbody tr th {\n",
       "        vertical-align: top;\n",
       "    }\n",
       "\n",
       "    .dataframe thead th {\n",
       "        text-align: right;\n",
       "    }\n",
       "</style>\n",
       "<table border=\"1\" class=\"dataframe\">\n",
       "  <thead>\n",
       "    <tr style=\"text-align: right;\">\n",
       "      <th></th>\n",
       "      <th>LR</th>\n",
       "      <th>KNN</th>\n",
       "      <th>SVM</th>\n",
       "      <th>SVM_Class_Weight</th>\n",
       "      <th>SVM_Class_Weight_Scaled</th>\n",
       "      <th>SVM_Hyperparameter_Tuning</th>\n",
       "    </tr>\n",
       "  </thead>\n",
       "  <tbody>\n",
       "    <tr>\n",
       "      <th>Accuracy</th>\n",
       "      <td>0.876243</td>\n",
       "      <td>0.881768</td>\n",
       "      <td>0.885083</td>\n",
       "      <td>0.870718</td>\n",
       "      <td>0.843094</td>\n",
       "      <td>0.885083</td>\n",
       "    </tr>\n",
       "    <tr>\n",
       "      <th>Recall</th>\n",
       "      <td>0.153846</td>\n",
       "      <td>0.211538</td>\n",
       "      <td>0.000000</td>\n",
       "      <td>0.403846</td>\n",
       "      <td>0.528846</td>\n",
       "      <td>0.000000</td>\n",
       "    </tr>\n",
       "    <tr>\n",
       "      <th>Precision</th>\n",
       "      <td>0.400000</td>\n",
       "      <td>0.468085</td>\n",
       "      <td>0.000000</td>\n",
       "      <td>0.432990</td>\n",
       "      <td>0.371622</td>\n",
       "      <td>0.000000</td>\n",
       "    </tr>\n",
       "    <tr>\n",
       "      <th>ROC_AUC</th>\n",
       "      <td>0.561942</td>\n",
       "      <td>0.590164</td>\n",
       "      <td>0.500000</td>\n",
       "      <td>0.667591</td>\n",
       "      <td>0.706371</td>\n",
       "      <td>0.500000</td>\n",
       "    </tr>\n",
       "    <tr>\n",
       "      <th>F1</th>\n",
       "      <td>0.222222</td>\n",
       "      <td>0.291391</td>\n",
       "      <td>0.000000</td>\n",
       "      <td>0.417910</td>\n",
       "      <td>0.436508</td>\n",
       "      <td>0.000000</td>\n",
       "    </tr>\n",
       "  </tbody>\n",
       "</table>\n",
       "</div>"
      ],
      "text/plain": [
       "                 LR       KNN       SVM  SVM_Class_Weight  \\\n",
       "Accuracy   0.876243  0.881768  0.885083          0.870718   \n",
       "Recall     0.153846  0.211538  0.000000          0.403846   \n",
       "Precision  0.400000  0.468085  0.000000          0.432990   \n",
       "ROC_AUC    0.561942  0.590164  0.500000          0.667591   \n",
       "F1         0.222222  0.291391  0.000000          0.417910   \n",
       "\n",
       "           SVM_Class_Weight_Scaled  SVM_Hyperparameter_Tuning  \n",
       "Accuracy                  0.843094                   0.885083  \n",
       "Recall                    0.528846                   0.000000  \n",
       "Precision                 0.371622                   0.000000  \n",
       "ROC_AUC                   0.706371                   0.500000  \n",
       "F1                        0.436508                   0.000000  "
      ]
     },
     "execution_count": 130,
     "metadata": {},
     "output_type": "execute_result"
    }
   ],
   "source": [
    "pd.DataFrame(data_base,index=['Accuracy','Recall','Precision','ROC_AUC','F1'])"
   ]
  },
  {
   "cell_type": "code",
   "execution_count": 131,
   "id": "70d0eb64-f139-4f4c-8bff-4428db530fec",
   "metadata": {},
   "outputs": [],
   "source": [
    "# Manual Tuning C"
   ]
  },
  {
   "cell_type": "code",
   "execution_count": 136,
   "id": "5d5231bc-8275-49ee-a6e9-1a2eb96a487c",
   "metadata": {},
   "outputs": [],
   "source": [
    "C_range = np.arange(1,20,1)\n",
    "test_f1 = []\n",
    "\n",
    "for i in C_range:\n",
    "    Model = SVC(C = i, class_weight={0:0.2,1:0.8})\n",
    "    Model.fit(X_train_sc,y_train_sc)\n",
    "    y_pred_ts = Model.predict(X_test_sc)\n",
    "    f1_Test = f1_score(y_test_sc,y_pred_ts)\n",
    "    test_f1.append(f1_Test)"
   ]
  },
  {
   "cell_type": "code",
   "execution_count": 137,
   "id": "9ca8c2d7-b272-4b29-9985-21b675bd556a",
   "metadata": {},
   "outputs": [
    {
     "data": {
      "image/png": "[encoded data removed]",
      "text/plain": [
       "<Figure size 432x288 with 1 Axes>"
      ]
     },
     "metadata": {
      "needs_background": "light"
     },
     "output_type": "display_data"
    }
   ],
   "source": [
    "plt.plot(C_range,test_f1,'b',label='F1 Test Score')\n",
    "plt.legend()\n",
    "plt.show()"
   ]
  },
  {
   "cell_type": "code",
   "execution_count": 138,
   "id": "fa5f699a-722f-48a1-a0ce-442f27b4bdd6",
   "metadata": {},
   "outputs": [
    {
     "data": {
      "text/plain": [
       "5"
      ]
     },
     "execution_count": 138,
     "metadata": {},
     "output_type": "execute_result"
    }
   ],
   "source": [
    "C_range[np.argmax(test_f1)]"
   ]
  },
  {
   "cell_type": "code",
   "execution_count": 139,
   "id": "1421e2c5-a5b4-4e79-9573-9745a50de5f8",
   "metadata": {},
   "outputs": [],
   "source": [
    "# Manual Tuning degree"
   ]
  },
  {
   "cell_type": "code",
   "execution_count": 140,
   "id": "4d89a31c-9813-44ce-bd93-cf3803421309",
   "metadata": {},
   "outputs": [],
   "source": [
    "C_range = np.arange(1,10,1)\n",
    "test_f1 = []\n",
    "\n",
    "for i in C_range:\n",
    "    Model = SVC(degree = i, class_weight={0:0.2,1:0.8},max_iter=400)\n",
    "    Model.fit(X_train_sc,y_train_sc)\n",
    "    y_pred_ts = Model.predict(X_test_sc)\n",
    "    f1_Test = f1_score(y_test_sc,y_pred_ts)\n",
    "    test_f1.append(f1_Test)"
   ]
  },
  {
   "cell_type": "code",
   "execution_count": 141,
   "id": "a49a6cd3-1e13-451e-b077-663850bef356",
   "metadata": {},
   "outputs": [
    {
     "data": {
      "image/png": "[encoded data removed]",
      "text/plain": [
       "<Figure size 432x288 with 1 Axes>"
      ]
     },
     "metadata": {
      "needs_background": "light"
     },
     "output_type": "display_data"
    }
   ],
   "source": [
    "plt.plot(C_range,test_f1,'b',label='F1 Test Score')\n",
    "plt.legend()\n",
    "plt.show()"
   ]
  },
  {
   "cell_type": "code",
   "execution_count": 142,
   "id": "543002ae-121d-45ef-a306-bb2fd12fba36",
   "metadata": {},
   "outputs": [],
   "source": [
    "Model_SVM_ManTun = SVC(C = 5, class_weight={0:0.2,1:0.8})"
   ]
  },
  {
   "cell_type": "code",
   "execution_count": 143,
   "id": "d49208f3-e3b0-47a5-a7a8-b3711ea02054",
   "metadata": {},
   "outputs": [
    {
     "data": {
      "text/plain": [
       "SVC(C=5, class_weight={0: 0.2, 1: 0.8})"
      ]
     },
     "execution_count": 143,
     "metadata": {},
     "output_type": "execute_result"
    }
   ],
   "source": [
    "Model_SVM_ManTun.fit(X_train_sc,y_train_sc)"
   ]
  },
  {
   "cell_type": "code",
   "execution_count": 145,
   "id": "a8b56f2a-511c-4b33-a857-ec80f68d123e",
   "metadata": {},
   "outputs": [],
   "source": [
    "acc_SVM_CW_SC_MT, rec_SVM_CW_SC_MT, prec_SVM_CW_SC_MT, roc_SVM_CW_SC_MT, f1_SVM_CW_SC_MT, cm_SVM_CW_SC_MT , cr_SVM_CW_SC_MT = Eva_Matrix_Class(Model_SVM_ManTun,X_test_sc,y_test_sc)"
   ]
  },
  {
   "cell_type": "code",
   "execution_count": 146,
   "id": "e6915a9e-6ae7-4fcc-add8-226abf572259",
   "metadata": {},
   "outputs": [
    {
     "data": {
      "image/png": "[encoded data removed]",
      "text/plain": [
       "<Figure size 432x288 with 1 Axes>"
      ]
     },
     "metadata": {
      "needs_background": "light"
     },
     "output_type": "display_data"
    }
   ],
   "source": [
    "sns.heatmap(cm_SVM_CW_SC_MT,cbar=False,annot=True);"
   ]
  },
  {
   "cell_type": "code",
   "execution_count": 147,
   "id": "d6a7de1b-a933-4aad-bcc6-11134f342e41",
   "metadata": {},
   "outputs": [
    {
     "name": "stdout",
     "output_type": "stream",
     "text": [
      "              precision    recall  f1-score   support\n",
      "\n",
      "           0       0.94      0.88      0.91       801\n",
      "           1       0.39      0.58      0.46       104\n",
      "\n",
      "    accuracy                           0.85       905\n",
      "   macro avg       0.66      0.73      0.69       905\n",
      "weighted avg       0.88      0.85      0.86       905\n",
      "\n"
     ]
    }
   ],
   "source": [
    "print(cr_SVM_CW_SC_MT)"
   ]
  },
  {
   "cell_type": "code",
   "execution_count": 148,
   "id": "91115b89-f2d9-40dd-bdd8-3b28536babda",
   "metadata": {},
   "outputs": [],
   "source": [
    "data_base = {\n",
    "    'LR' :[acc_LR, rec_LR, prec_LR, roc_LR, f1_LR],\n",
    "    'KNN' :[acc_KNN, rec_KNN, prec_KNN, roc_KNN, f1_KNN],\n",
    "    'SVM' :[acc_SVM, rec_SVM, prec_SVM, roc_SVM, f1_SVM],\n",
    "    'SVM_Class_Weight' : [acc_SVM_CW, rec_SVM_CW, prec_SVM_CW, roc_SVM_CW, f1_SVM_CW],\n",
    "    'SVM_Class_Weight_Scaled' : [acc_SVM_CW_SC, rec_SVM_CW_SC, prec_SVM_CW_SC, roc_SVM_CW_SC, f1_SVM_CW_SC],\n",
    "    'SVM_Hyperparameter_Tuning' :[ACC_SVM, REC_SVM, PREC_SVM, ROC_SVM, F1_SVM],\n",
    "    'SVM_Manual_Tuning' : [acc_SVM_CW_SC_MT, rec_SVM_CW_SC_MT, prec_SVM_CW_SC_MT, roc_SVM_CW_SC_MT, f1_SVM_CW_SC_MT]\n",
    "}"
   ]
  },
  {
   "cell_type": "code",
   "execution_count": 149,
   "id": "6b835e96-ac72-4cb6-94df-d91e19a34637",
   "metadata": {},
   "outputs": [
    {
     "data": {
      "text/html": [
       "<div>\n",
       "<style scoped>\n",
       "    .dataframe tbody tr th:only-of-type {\n",
       "        vertical-align: middle;\n",
       "    }\n",
       "\n",
       "    .dataframe tbody tr th {\n",
       "        vertical-align: top;\n",
       "    }\n",
       "\n",
       "    .dataframe thead th {\n",
       "        text-align: right;\n",
       "    }\n",
       "</style>\n",
       "<table border=\"1\" class=\"dataframe\">\n",
       "  <thead>\n",
       "    <tr style=\"text-align: right;\">\n",
       "      <th></th>\n",
       "      <th>LR</th>\n",
       "      <th>KNN</th>\n",
       "      <th>SVM</th>\n",
       "      <th>SVM_Class_Weight</th>\n",
       "      <th>SVM_Class_Weight_Scaled</th>\n",
       "      <th>SVM_Hyperparameter_Tuning</th>\n",
       "      <th>SVM_Manual_Tuning</th>\n",
       "    </tr>\n",
       "  </thead>\n",
       "  <tbody>\n",
       "    <tr>\n",
       "      <th>Accuracy</th>\n",
       "      <td>0.876243</td>\n",
       "      <td>0.881768</td>\n",
       "      <td>0.885083</td>\n",
       "      <td>0.870718</td>\n",
       "      <td>0.843094</td>\n",
       "      <td>0.885083</td>\n",
       "      <td>0.846409</td>\n",
       "    </tr>\n",
       "    <tr>\n",
       "      <th>Recall</th>\n",
       "      <td>0.153846</td>\n",
       "      <td>0.211538</td>\n",
       "      <td>0.000000</td>\n",
       "      <td>0.403846</td>\n",
       "      <td>0.528846</td>\n",
       "      <td>0.000000</td>\n",
       "      <td>0.576923</td>\n",
       "    </tr>\n",
       "    <tr>\n",
       "      <th>Precision</th>\n",
       "      <td>0.400000</td>\n",
       "      <td>0.468085</td>\n",
       "      <td>0.000000</td>\n",
       "      <td>0.432990</td>\n",
       "      <td>0.371622</td>\n",
       "      <td>0.000000</td>\n",
       "      <td>0.387097</td>\n",
       "    </tr>\n",
       "    <tr>\n",
       "      <th>ROC_AUC</th>\n",
       "      <td>0.561942</td>\n",
       "      <td>0.590164</td>\n",
       "      <td>0.500000</td>\n",
       "      <td>0.667591</td>\n",
       "      <td>0.706371</td>\n",
       "      <td>0.500000</td>\n",
       "      <td>0.729161</td>\n",
       "    </tr>\n",
       "    <tr>\n",
       "      <th>F1</th>\n",
       "      <td>0.222222</td>\n",
       "      <td>0.291391</td>\n",
       "      <td>0.000000</td>\n",
       "      <td>0.417910</td>\n",
       "      <td>0.436508</td>\n",
       "      <td>0.000000</td>\n",
       "      <td>0.463320</td>\n",
       "    </tr>\n",
       "  </tbody>\n",
       "</table>\n",
       "</div>"
      ],
      "text/plain": [
       "                 LR       KNN       SVM  SVM_Class_Weight  \\\n",
       "Accuracy   0.876243  0.881768  0.885083          0.870718   \n",
       "Recall     0.153846  0.211538  0.000000          0.403846   \n",
       "Precision  0.400000  0.468085  0.000000          0.432990   \n",
       "ROC_AUC    0.561942  0.590164  0.500000          0.667591   \n",
       "F1         0.222222  0.291391  0.000000          0.417910   \n",
       "\n",
       "           SVM_Class_Weight_Scaled  SVM_Hyperparameter_Tuning  \\\n",
       "Accuracy                  0.843094                   0.885083   \n",
       "Recall                    0.528846                   0.000000   \n",
       "Precision                 0.371622                   0.000000   \n",
       "ROC_AUC                   0.706371                   0.500000   \n",
       "F1                        0.436508                   0.000000   \n",
       "\n",
       "           SVM_Manual_Tuning  \n",
       "Accuracy            0.846409  \n",
       "Recall              0.576923  \n",
       "Precision           0.387097  \n",
       "ROC_AUC             0.729161  \n",
       "F1                  0.463320  "
      ]
     },
     "execution_count": 149,
     "metadata": {},
     "output_type": "execute_result"
    }
   ],
   "source": [
    "pd.DataFrame(data_base,index=['Accuracy','Recall','Precision','ROC_AUC','F1'])"
   ]
  },
  {
   "cell_type": "code",
   "execution_count": 151,
   "id": "9a5eb9c1-fcec-46f4-9afd-55703a60e8ae",
   "metadata": {},
   "outputs": [
    {
     "data": {
      "text/html": [
       "<div>\n",
       "<style scoped>\n",
       "    .dataframe tbody tr th:only-of-type {\n",
       "        vertical-align: middle;\n",
       "    }\n",
       "\n",
       "    .dataframe tbody tr th {\n",
       "        vertical-align: top;\n",
       "    }\n",
       "\n",
       "    .dataframe thead th {\n",
       "        text-align: right;\n",
       "    }\n",
       "</style>\n",
       "<table border=\"1\" class=\"dataframe\">\n",
       "  <thead>\n",
       "    <tr style=\"text-align: right;\">\n",
       "      <th></th>\n",
       "      <th>age</th>\n",
       "      <th>housing</th>\n",
       "      <th>contact</th>\n",
       "      <th>duration</th>\n",
       "      <th>pdays</th>\n",
       "      <th>previous</th>\n",
       "      <th>y</th>\n",
       "      <th>0</th>\n",
       "    </tr>\n",
       "  </thead>\n",
       "  <tbody>\n",
       "    <tr>\n",
       "      <th>0</th>\n",
       "      <td>30</td>\n",
       "      <td>0</td>\n",
       "      <td>1</td>\n",
       "      <td>79</td>\n",
       "      <td>0</td>\n",
       "      <td>0</td>\n",
       "      <td>0</td>\n",
       "      <td>0.951807</td>\n",
       "    </tr>\n",
       "    <tr>\n",
       "      <th>1</th>\n",
       "      <td>33</td>\n",
       "      <td>1</td>\n",
       "      <td>1</td>\n",
       "      <td>220</td>\n",
       "      <td>339</td>\n",
       "      <td>4</td>\n",
       "      <td>0</td>\n",
       "      <td>3.079376</td>\n",
       "    </tr>\n",
       "    <tr>\n",
       "      <th>2</th>\n",
       "      <td>35</td>\n",
       "      <td>1</td>\n",
       "      <td>1</td>\n",
       "      <td>185</td>\n",
       "      <td>330</td>\n",
       "      <td>1</td>\n",
       "      <td>0</td>\n",
       "      <td>0.642098</td>\n",
       "    </tr>\n",
       "    <tr>\n",
       "      <th>3</th>\n",
       "      <td>30</td>\n",
       "      <td>1</td>\n",
       "      <td>0</td>\n",
       "      <td>199</td>\n",
       "      <td>0</td>\n",
       "      <td>0</td>\n",
       "      <td>0</td>\n",
       "      <td>0.731396</td>\n",
       "    </tr>\n",
       "    <tr>\n",
       "      <th>4</th>\n",
       "      <td>59</td>\n",
       "      <td>1</td>\n",
       "      <td>0</td>\n",
       "      <td>226</td>\n",
       "      <td>0</td>\n",
       "      <td>0</td>\n",
       "      <td>0</td>\n",
       "      <td>-0.314670</td>\n",
       "    </tr>\n",
       "  </tbody>\n",
       "</table>\n",
       "</div>"
      ],
      "text/plain": [
       "   age  housing  contact  duration  pdays  previous  y         0\n",
       "0   30        0        1        79      0         0  0  0.951807\n",
       "1   33        1        1       220    339         4  0  3.079376\n",
       "2   35        1        1       185    330         1  0  0.642098\n",
       "3   30        1        0       199      0         0  0  0.731396\n",
       "4   59        1        0       226      0         0  0 -0.314670"
      ]
     },
     "execution_count": 151,
     "metadata": {},
     "output_type": "execute_result"
    }
   ],
   "source": [
    "df_sc.head()"
   ]
  },
  {
   "cell_type": "code",
   "execution_count": 152,
   "id": "6be31285-8ee4-4d2d-84de-0b3eb8af8992",
   "metadata": {},
   "outputs": [
    {
     "data": {
      "text/html": [
       "<div>\n",
       "<style scoped>\n",
       "    .dataframe tbody tr th:only-of-type {\n",
       "        vertical-align: middle;\n",
       "    }\n",
       "\n",
       "    .dataframe tbody tr th {\n",
       "        vertical-align: top;\n",
       "    }\n",
       "\n",
       "    .dataframe thead th {\n",
       "        text-align: right;\n",
       "    }\n",
       "</style>\n",
       "<table border=\"1\" class=\"dataframe\">\n",
       "  <thead>\n",
       "    <tr style=\"text-align: right;\">\n",
       "      <th></th>\n",
       "      <th>age</th>\n",
       "      <th>balance</th>\n",
       "      <th>housing</th>\n",
       "      <th>contact</th>\n",
       "      <th>duration</th>\n",
       "      <th>pdays</th>\n",
       "      <th>previous</th>\n",
       "      <th>y</th>\n",
       "    </tr>\n",
       "  </thead>\n",
       "  <tbody>\n",
       "    <tr>\n",
       "      <th>0</th>\n",
       "      <td>30</td>\n",
       "      <td>1787</td>\n",
       "      <td>0</td>\n",
       "      <td>1</td>\n",
       "      <td>79</td>\n",
       "      <td>0</td>\n",
       "      <td>0</td>\n",
       "      <td>0</td>\n",
       "    </tr>\n",
       "    <tr>\n",
       "      <th>1</th>\n",
       "      <td>33</td>\n",
       "      <td>4789</td>\n",
       "      <td>1</td>\n",
       "      <td>1</td>\n",
       "      <td>220</td>\n",
       "      <td>339</td>\n",
       "      <td>4</td>\n",
       "      <td>0</td>\n",
       "    </tr>\n",
       "    <tr>\n",
       "      <th>2</th>\n",
       "      <td>35</td>\n",
       "      <td>1350</td>\n",
       "      <td>1</td>\n",
       "      <td>1</td>\n",
       "      <td>185</td>\n",
       "      <td>330</td>\n",
       "      <td>1</td>\n",
       "      <td>0</td>\n",
       "    </tr>\n",
       "    <tr>\n",
       "      <th>3</th>\n",
       "      <td>30</td>\n",
       "      <td>1476</td>\n",
       "      <td>1</td>\n",
       "      <td>0</td>\n",
       "      <td>199</td>\n",
       "      <td>0</td>\n",
       "      <td>0</td>\n",
       "      <td>0</td>\n",
       "    </tr>\n",
       "    <tr>\n",
       "      <th>4</th>\n",
       "      <td>59</td>\n",
       "      <td>0</td>\n",
       "      <td>1</td>\n",
       "      <td>0</td>\n",
       "      <td>226</td>\n",
       "      <td>0</td>\n",
       "      <td>0</td>\n",
       "      <td>0</td>\n",
       "    </tr>\n",
       "  </tbody>\n",
       "</table>\n",
       "</div>"
      ],
      "text/plain": [
       "   age  balance  housing  contact  duration  pdays  previous  y\n",
       "0   30     1787        0        1        79      0         0  0\n",
       "1   33     4789        1        1       220    339         4  0\n",
       "2   35     1350        1        1       185    330         1  0\n",
       "3   30     1476        1        0       199      0         0  0\n",
       "4   59        0        1        0       226      0         0  0"
      ]
     },
     "execution_count": 152,
     "metadata": {},
     "output_type": "execute_result"
    }
   ],
   "source": [
    "df1.head()"
   ]
  },
  {
   "cell_type": "code",
   "execution_count": 159,
   "id": "4c3c0e4b-06a3-45d6-84e6-e1dc87d2446b",
   "metadata": {},
   "outputs": [],
   "source": [
    "# Prediction"
   ]
  },
  {
   "cell_type": "code",
   "execution_count": 157,
   "id": "5ac9b2ff-6778-47d9-ab68-662c0bd41f60",
   "metadata": {},
   "outputs": [
    {
     "data": {
      "text/plain": [
       "0"
      ]
     },
     "execution_count": 157,
     "metadata": {},
     "output_type": "execute_result"
    }
   ],
   "source": [
    "Model_SVM_ManTun.predict([[30,1,1,200,10,2,3]])[0]"
   ]
  },
  {
   "cell_type": "code",
   "execution_count": 158,
   "id": "92df7407-901c-42bb-8e5d-30c9fdf79f35",
   "metadata": {},
   "outputs": [
    {
     "data": {
      "text/plain": [
       "1"
      ]
     },
     "execution_count": 158,
     "metadata": {},
     "output_type": "execute_result"
    }
   ],
   "source": [
    "Model_SVM_ManTun.predict([[30,1,1,2000,2,10,5]])[0]"
   ]
  },
  {
   "cell_type": "code",
   "execution_count": null,
   "id": "dc21ac8e-dfb9-424a-8d90-c359ef3d6909",
   "metadata": {},
   "outputs": [],
   "source": []
  }
 ],
 "metadata": {
  "kernelspec": {
   "display_name": "Python 3",
   "language": "python",
   "name": "python3"
  },
  "language_info": {
   "codemirror_mode": {
    "name": "ipython",
    "version": 3
   },
   "file_extension": ".py",
   "mimetype": "text/x-python",
   "name": "python",
   "nbconvert_exporter": "python",
   "pygments_lexer": "ipython3",
   "version": "3.8.8"
  }
 },
 "nbformat": 4,
 "nbformat_minor": 5
}
